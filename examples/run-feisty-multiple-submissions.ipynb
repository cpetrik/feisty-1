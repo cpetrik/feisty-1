{
 "cells": [
  {
   "cell_type": "markdown",
   "id": "fcf68239-04f1-485f-bf25-cffa31b38d00",
   "metadata": {},
   "source": [
    "# Notebook to demonstrate how to run FEISTY with multiple submissions"
   ]
  },
  {
   "cell_type": "code",
   "execution_count": 1,
   "id": "efc5d15d-9313-4c1e-a29d-d7055c916b72",
   "metadata": {},
   "outputs": [],
   "source": [
    "%load_ext autoreload\n",
    "%autoreload 2"
   ]
  },
  {
   "cell_type": "code",
   "execution_count": 2,
   "id": "a21d9641-a0a5-494f-9dfc-475d5d98fdb8",
   "metadata": {},
   "outputs": [],
   "source": [
    "import os\n",
    "from glob import glob\n",
    "from subprocess import check_call\n",
    "\n",
    "import FEISTY_driver\n",
    "import matplotlib.pyplot as plt\n",
    "import yaml\n",
    "\n",
    "import feisty"
   ]
  },
  {
   "cell_type": "markdown",
   "id": "4643fd9c-08b0-4b02-b96e-90893c8749c2",
   "metadata": {},
   "source": [
    "## Specify case, setup info and forcing files"
   ]
  },
  {
   "cell_type": "code",
   "execution_count": 3,
   "id": "d3a9697e-48b8-4d2d-a26e-d38133639bca",
   "metadata": {},
   "outputs": [],
   "source": [
    "# case = 'g.e22.TL319_t13.G1850ECOIAF_JRA_HR.4p2z.001'\n",
    "# case_sname = 'TL319_t13.4p2z.001'\n",
    "# dir_forcing = '/glade/scratch/kristenk/hi-res-feisty-inputs'\n",
    "# nyears_per_submission = 1\n",
    "\n",
    "case = 'g.e22.GOMIPECOIAF_JRA-1p4-2018.TL319_g17.4p2z.001branch'\n",
    "case_sname = 'TL319_g17.4p2z.001'\n",
    "dir_forcing = '/glade/work/mlevy/codes/feisty/input_files/1deg_companion_run'\n",
    "nyears_per_submission = 1  # TODO: need better control here\n",
    "\n",
    "run_config_file = f'feisty-config.{case_sname}.yml'\n",
    "run_forcing_file = f'feisty-forcing.{case_sname}.yml'\n",
    "run_settings_file = f'feisty-settings.{case_sname}.yml'"
   ]
  },
  {
   "cell_type": "code",
   "execution_count": 4,
   "id": "e1058d5f-abd0-4eed-b5b3-dfc74efb8d67",
   "metadata": {},
   "outputs": [
    {
     "name": "stdout",
     "output_type": "stream",
     "text": [
      "computing_account: P93300670\n",
      "diagnostic_names: []\n",
      "forcing_rename:\n",
      "  HT: bathymetry\n",
      "  TEMP_BOTTOM: T_bottom\n",
      "  TEMP_mean_100m: T_pelagic\n",
      "  mesozooC_zint_100m_2: zooC\n",
      "  mesozoo_loss_zint_100m: zoo_mort\n",
      "  pocToFloor: poc_flux_bottom\n",
      "  time: forcing_time\n",
      "ignore_year_in_forcing: false\n",
      "max_output_time_dim: 365\n",
      "method: euler\n",
      "num_chunks: 32\n",
      "output_in_2D: true\n",
      "resubmit: true\n",
      "run_dir_root: /glade/scratch/{{env['USER']}}\n",
      "run_name: feisty.TL319_g17.4p2z.001\n"
     ]
    }
   ],
   "source": [
    "run_config_info = dict(\n",
    "    run_name=f\"feisty.{case_sname}\",\n",
    "    num_chunks=32,\n",
    "    ignore_year_in_forcing=False,\n",
    "    diagnostic_names=[],\n",
    "    max_output_time_dim=365,\n",
    "    method=\"euler\",\n",
    "    output_in_2D=True,\n",
    "    computing_account=\"P93300670\",\n",
    "    resubmit=True,\n",
    "    run_dir_root=\"/glade/scratch/{{env['USER']}}\",\n",
    "    forcing_rename={\n",
    "        \"HT\": \"bathymetry\",\n",
    "        \"time\": \"forcing_time\",\n",
    "        \"pocToFloor\": \"poc_flux_bottom\",\n",
    "        \"mesozooC_zint_100m_2\": \"zooC\",\n",
    "        \"mesozoo_loss_zint_100m\": \"zoo_mort\",\n",
    "        \"TEMP_BOTTOM\": \"T_bottom\",\n",
    "        \"TEMP_mean_100m\": \"T_pelagic\",\n",
    "    },\n",
    ")\n",
    "with open(run_config_file, 'w') as fid:\n",
    "    yaml.dump(run_config_info, fid)\n",
    "\n",
    "check_call(['cat', run_config_file]);"
   ]
  },
  {
   "cell_type": "code",
   "execution_count": 5,
   "id": "b3dd3b2a-a500-4614-84d2-9d4ba2f385e2",
   "metadata": {},
   "outputs": [
    {
     "name": "stdout",
     "output_type": "stream",
     "text": [
      "195801-196712:\n",
      "  list_forcing_files:\n",
      "  - /glade/work/mlevy/codes/feisty/input_files/1deg_companion_run/g.e22.GOMIPECOIAF_JRA-1p4-2018.TL319_g17.4p2z.001branch.pop.h.TEMP_BOTTOM.195801-196712.nc\n",
      "  - /glade/work/mlevy/codes/feisty/input_files/1deg_companion_run/g.e22.GOMIPECOIAF_JRA-1p4-2018.TL319_g17.4p2z.001branch.pop.h.TEMP_mean_100m.195801-196712.nc\n",
      "  - /glade/work/mlevy/codes/feisty/input_files/1deg_companion_run/g.e22.GOMIPECOIAF_JRA-1p4-2018.TL319_g17.4p2z.001branch.pop.h.mesozooC_zint_100m_2.195801-196712.nc\n",
      "  - /glade/work/mlevy/codes/feisty/input_files/1deg_companion_run/g.e22.GOMIPECOIAF_JRA-1p4-2018.TL319_g17.4p2z.001branch.pop.h.mesozoo_loss_zint_100m.195801-196712.nc\n",
      "  - /glade/work/mlevy/codes/feisty/input_files/1deg_companion_run/g.e22.GOMIPECOIAF_JRA-1p4-2018.TL319_g17.4p2z.001branch.pop.h.pocToFloor.195801-196712.nc\n",
      "  nyears: 1\n",
      "  start_date: '1958-01-01'\n",
      "keys:\n",
      "- 195801-196712\n"
     ]
    }
   ],
   "source": [
    "forcing_files = sorted(glob(f'{dir_forcing}/{case}.pop.h.*.nc'))\n",
    "datestrs = list({f.split('.')[-2] for f in forcing_files})\n",
    "\n",
    "required_vars = [\n",
    "    'TEMP_BOTTOM',\n",
    "    'TEMP_mean_100m',\n",
    "    'mesozooC_zint_100m_2',\n",
    "    'mesozoo_loss_zint_100m',\n",
    "    'pocToFloor',\n",
    "]\n",
    "\n",
    "forcing_file_groups = {k: {} for k in datestrs}\n",
    "\n",
    "for datestr in datestrs:\n",
    "    file_list_i = [f for f in forcing_files if datestr in f]\n",
    "    for v in required_vars:\n",
    "        assert v in [f.split('.')[-3] for f in file_list_i]\n",
    "\n",
    "    forcing_file_groups[datestr]['list_forcing_files'] = file_list_i\n",
    "    forcing_file_groups[datestr]['nyears'] = nyears_per_submission\n",
    "    forcing_file_groups[datestr]['start_date'] = f'{datestr[:4]}-01-01'\n",
    "\n",
    "forcing_file_groups['keys'] = list(sorted(forcing_file_groups.keys()))\n",
    "\n",
    "with open(run_forcing_file, 'w') as fid:\n",
    "    yaml.dump(forcing_file_groups, fid)\n",
    "\n",
    "check_call(['head', '-n', '20', run_forcing_file]);"
   ]
  },
  {
   "cell_type": "code",
   "execution_count": 6,
   "id": "dd1aa11e-99da-48db-bb51-ae3d16c700b5",
   "metadata": {},
   "outputs": [
    {
     "data": {
      "text/plain": [
       "['195801-196712']"
      ]
     },
     "execution_count": 6,
     "metadata": {},
     "output_type": "execute_result"
    }
   ],
   "source": [
    "datestrs"
   ]
  },
  {
   "cell_type": "code",
   "execution_count": 7,
   "id": "7bc08512-4838-43a8-8a95-a2591b002d4a",
   "metadata": {},
   "outputs": [
    {
     "name": "stdout",
     "output_type": "stream",
     "text": [
      "benthic_prey:\n",
      "  defaults:\n",
      "    benthic_efficiency: 0.075\n",
      "    carrying_capacity: 80.0\n",
      "  members:\n",
      "  - name: benthic_prey\n",
      "fish:\n",
      "  defaults:\n",
      "    a_consumption: 20.0\n",
      "    a_encounter: 70.0\n",
      "    a_metabolism: 4.0\n",
      "    assim_efficiency: 0.7\n",
      "    b_consumption: 0.25\n",
      "    b_encounter: 0.2\n",
      "    b_metabolism: 0.175\n",
      "    k_consumption: 0.063\n",
      "    k_encounter: 0.063\n",
      "    k_metabolism: 0.0855\n",
      "    mortality_coeff_per_yr: 0.1\n",
      "    mortality_type: constant\n"
     ]
    }
   ],
   "source": [
    "feisty_settings = feisty.settings.get_defaults()\n",
    "with open(run_settings_file, 'w') as fid:\n",
    "    yaml.dump(feisty_settings, fid)\n",
    "\n",
    "check_call(['head', '-n', '20', run_settings_file]);"
   ]
  },
  {
   "cell_type": "markdown",
   "id": "7e5be8cc-a42d-4216-97e1-02a1e94f137c",
   "metadata": {},
   "source": [
    "## Run the model"
   ]
  },
  {
   "cell_type": "code",
   "execution_count": 8,
   "id": "b36b0aa9-41f4-4164-8850-9c5bc87a8173",
   "metadata": {},
   "outputs": [
    {
     "name": "stdout",
     "output_type": "stream",
     "text": [
      "submitting run\n",
      "qsub /glade/scratch/mclong/tmp/feisty-run.f6myapex.sh\n",
      "4268950.casper-pbs\n"
     ]
    },
    {
     "data": {
      "text/plain": [
       "0"
      ]
     },
     "execution_count": 8,
     "metadata": {},
     "output_type": "execute_result"
    }
   ],
   "source": [
    "FEISTY_driver.submit_run(\n",
    "    run_config_file,\n",
    "    run_forcing_file,\n",
    "    run_settings_file,\n",
    ")"
   ]
  },
  {
   "cell_type": "code",
   "execution_count": null,
   "id": "8e1e706d-4b73-4634-9e2f-c51a5256f439",
   "metadata": {},
   "outputs": [],
   "source": []
  }
 ],
 "metadata": {
  "kernelspec": {
   "display_name": "Python [conda env:miniconda3-dev-feisty]",
   "language": "python",
   "name": "conda-env-miniconda3-dev-feisty-py"
  },
  "language_info": {
   "codemirror_mode": {
    "name": "ipython",
    "version": 3
   },
   "file_extension": ".py",
   "mimetype": "text/x-python",
   "name": "python",
   "nbconvert_exporter": "python",
   "pygments_lexer": "ipython3",
   "version": "3.9.7"
  }
 },
 "nbformat": 4,
 "nbformat_minor": 5
}
