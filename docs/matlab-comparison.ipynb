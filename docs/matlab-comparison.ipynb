{
 "cells": [
  {
   "cell_type": "markdown",
   "id": "4cd7060d",
   "metadata": {
    "tags": []
   },
   "source": [
    "# Running the model\n",
    "\n",
    "Setup a `feisty` integration.\n"
   ]
  },
  {
   "cell_type": "code",
   "execution_count": 1,
   "id": "22be3cd7",
   "metadata": {},
   "outputs": [],
   "source": [
    "%load_ext autoreload\n",
    "%autoreload 2"
   ]
  },
  {
   "cell_type": "code",
   "execution_count": 2,
   "id": "ee8b44b3",
   "metadata": {},
   "outputs": [],
   "source": [
    "import matplotlib.pyplot as plt\n",
    "import numpy as np\n",
    "import xarray as xr\n",
    "import yaml\n",
    "\n",
    "import feisty"
   ]
  },
  {
   "cell_type": "markdown",
   "id": "5f0bb673",
   "metadata": {},
   "source": [
    "## Configure testcase to run\n",
    "\n",
    "TODO: this is using the first column (which I believe is shallowest); want to add deepest column as well.\n",
    "That will require refactoring the yaml file and also changing test_ds."
   ]
  },
  {
   "cell_type": "code",
   "execution_count": 3,
   "id": "cc1c7859",
   "metadata": {},
   "outputs": [],
   "source": [
    "def _comparison(matlab_vals, py_vals, row_name, full_table, seps):\n",
    "    nstep = np.min([len(matlab_vals[\"time\"].data), len(py_vals[\"time\"].data)])\n",
    "    nx = np.min([len(matlab_vals[\"X\"].data), len(py_vals[\"X\"].data)])\n",
    "    matlab_vals = matlab_vals.isel(time=slice(0, nstep), X=slice(0, nx)).data\n",
    "    py_vals = py_vals.isel(time=slice(0, nstep), X=slice(0, nx)).data\n",
    "    rel_errs = np.where(matlab_vals != 0, np.abs((py_vals - matlab_vals) / matlab_vals), np.nan)\n",
    "    rel_errs = np.where(np.logical_and(np.isnan(rel_errs), py_vals == 0), 0, rel_errs)\n",
    "    rel_errs = np.where(np.logical_and(np.isnan(rel_errs), py_vals > 0), np.inf, rel_errs)\n",
    "    rel_errs = np.where(np.logical_and(np.isnan(rel_errs), py_vals < 0), -np.inf, rel_errs)\n",
    "\n",
    "    if full_table or rel_err > 1e-12:\n",
    "        max_inds = np.nonzero(np.abs(rel_errs) == np.max(np.abs(rel_errs)))\n",
    "        t_ind = max_inds[0][0]\n",
    "        x_ind = max_inds[1][0]\n",
    "        matlab_val = matlab_vals[t_ind][x_ind]\n",
    "        py_val = py_vals[t_ind][x_ind]\n",
    "        rel_err = rel_errs[t_ind][x_ind]\n",
    "        print(\n",
    "            f\"{seps[0]}{row_name} (t={t_ind}, X={x_ind}){seps[1]}{matlab_val:10.4e}{seps[2]}\"\n",
    "            + f\"{py_val:10.4e}{seps[2]}{rel_err:10.4e}{seps[-1]}\"\n",
    "        )\n",
    "\n",
    "\n",
    "def compare_nc(baseline_ds, test_da_or_ds, full_table=True, markdown_formatting=\"true\"):\n",
    "    if type(test_da_or_ds) == xr.Dataset:\n",
    "        ds = test_da_or_ds\n",
    "        da = None\n",
    "        baseline_da = None\n",
    "        table_header = ''\n",
    "    else:\n",
    "        da = test_da_or_ds\n",
    "        ds = None\n",
    "        da_dims = [\"group\", \"fish\"]\n",
    "        da_dim = ''\n",
    "        for dad in da_dims:\n",
    "            if dad in da.dims:\n",
    "                da_dim = dad\n",
    "                break\n",
    "        baseline_da = baseline_ds[da.name]\n",
    "        table_header = da_dim\n",
    "    if markdown_formatting:\n",
    "        print(f\"| {table_header} | Matlab Value | Python Value | Rel Err |\")\n",
    "        print(\"| --- | --- | --- | --- |\")\n",
    "        seps = [\"| \", \" | \", \" | \", \" |\"]\n",
    "    else:\n",
    "        seps = [\"\", \": \", \", \", \"\"]\n",
    "    if da is not None:\n",
    "        for n, dimname in enumerate(da[da_dim]):\n",
    "            _comparison(\n",
    "                baseline_da.isel({da_dim: n}), da.isel({da_dim: n}), dimname.data, full_table, seps\n",
    "            )\n",
    "    else:\n",
    "        for varname in ds:\n",
    "            _comparison(\n",
    "                baseline_ds.isel(zooplankton=0)[varname],\n",
    "                ds.isel(zooplankton=0)[varname],\n",
    "                varname,\n",
    "                full_table,\n",
    "                seps,\n",
    "            )\n",
    "\n",
    "\n",
    "def get_forcing(matlab_script, force_nonnegative=True):\n",
    "    ds = xr.open_dataset(f'../matlab_baselines/{matlab_script}_forcing.nc')\n",
    "    if force_nonnegative:\n",
    "        for var in ['poc_flux_bottom', 'zooC', 'zoo_mort']:\n",
    "            ds[var].data = np.where(ds[var].data > 0, ds[var].data, 0)\n",
    "    return ds"
   ]
  },
  {
   "cell_type": "code",
   "execution_count": 4,
   "id": "daa003d9",
   "metadata": {},
   "outputs": [],
   "source": [
    "# matlab_script = \"test_case\"\n",
    "matlab_script = \"test_locs3\"\n",
    "matlab_forcing_from_nc = get_forcing(matlab_script)\n",
    "baselines_from_nc = xr.open_dataset(f'../matlab_baselines/{matlab_script}.nc')\n",
    "\n",
    "if matlab_script == \"test_case\":\n",
    "    testcase = feisty.driver.simulate_testcase(\"tanh_shelf\", \"cyclic\")\n",
    "elif matlab_script == \"test_locs3\":\n",
    "    kwargs = {'forcing_yaml': './forcing.yaml', 'forcing_key': matlab_script}\n",
    "    testcase = feisty.driver.simulate_testcase(\n",
    "        \"from_disk\", \"from_disk\", domain_kwargs=kwargs, forcing_kwargs=kwargs\n",
    "    )\n",
    "else:\n",
    "    raise ValueError(f\"unknown matlab_script '{matlab_script}'\")"
   ]
  },
  {
   "cell_type": "code",
   "execution_count": 5,
   "id": "95008950-a720-42b4-8231-d24d669507ca",
   "metadata": {},
   "outputs": [
    {
     "name": "stdout",
     "output_type": "stream",
     "text": [
      "|  | Matlab Value | Python Value | Rel Err |\n",
      "| --- | --- | --- | --- |\n",
      "| T_pelagic (t=0, X=0) | 4.7453e+00 | 4.7453e+00 | 0.0000e+00 |\n",
      "| T_bottom (t=0, X=0) | 4.7647e+00 | 4.7647e+00 | 0.0000e+00 |\n",
      "| poc_flux_bottom (t=0, X=0) | 0.0000e+00 | 0.0000e+00 | 0.0000e+00 |\n",
      "| zooC (t=0, X=0) | 7.0175e+00 | 7.0175e+00 | 0.0000e+00 |\n",
      "| zoo_mort (t=0, X=0) | 5.2470e-02 | 5.2470e-02 | 0.0000e+00 |\n",
      "\n",
      "Max diff in depth: 0.0\n"
     ]
    },
    {
     "name": "stderr",
     "output_type": "stream",
     "text": [
      "/glade/scratch/mlevy/tmpdir/ipykernel_141263/3502589495.py:6: RuntimeWarning: invalid value encountered in true_divide\n",
      "  rel_errs = np.where(matlab_vals != 0, np.abs((py_vals - matlab_vals) / matlab_vals), np.nan)\n"
     ]
    }
   ],
   "source": [
    "compare_nc(matlab_forcing_from_nc, testcase.forcing)\n",
    "print(\n",
    "    f\"\\nMax diff in depth: {np.max(np.abs(matlab_forcing_from_nc['dep'].data - testcase.obj.domain_dict['bathymetry'].data))}\"\n",
    ")"
   ]
  },
  {
   "cell_type": "markdown",
   "id": "3538b22f",
   "metadata": {},
   "source": [
    "## Run the model\n"
   ]
  },
  {
   "cell_type": "code",
   "execution_count": 6,
   "id": "27086302",
   "metadata": {},
   "outputs": [
    {
     "name": "stdout",
     "output_type": "stream",
     "text": [
      "CPU times: user 1min 26s, sys: 153 ms, total: 1min 27s\n",
      "Wall time: 1min 30s\n"
     ]
    }
   ],
   "source": [
    "%%time\n",
    "\n",
    "nsteps = 365\n",
    "make_plot = True\n",
    "testcase.run(nsteps)"
   ]
  },
  {
   "cell_type": "code",
   "execution_count": 7,
   "id": "d904523a",
   "metadata": {},
   "outputs": [
    {
     "data": {
      "image/png": "[encoded data removed]",
      "text/plain": [
       "<Figure size 432x288 with 1 Axes>"
      ]
     },
     "metadata": {
      "needs_background": "light"
     },
     "output_type": "display_data"
    }
   ],
   "source": [
    "if nsteps > 1:\n",
    "    if make_plot:\n",
    "        for group in testcase.ds.group.data:\n",
    "            testcase.ds.biomass.sel(group=group).isel(X=0).plot()\n",
    "        if matlab_script == \"test_case\":\n",
    "            plt.ylim([1e-6, 1])\n",
    "        if matlab_script == \"test_locs3\":\n",
    "            plt.ylim([5e-6, 50])\n",
    "        plt.yscale(\"log\")\n",
    "        plt.legend(testcase.ds.group.data)"
   ]
  },
  {
   "cell_type": "code",
   "execution_count": 8,
   "id": "b9b009f0-5956-40f1-85b5-30b4027fbcff",
   "metadata": {},
   "outputs": [
    {
     "name": "stdout",
     "output_type": "stream",
     "text": [
      "| group | Matlab Value | Python Value | Rel Err |\n",
      "| --- | --- | --- | --- |\n",
      "| Sf (t=298, X=0) | 1.2378e-05 | 1.2378e-05 | 2.7371e-16 |\n",
      "| Sp (t=0, X=0) | 9.9989e-06 | 9.9989e-06 | 0.0000e+00 |\n",
      "| Sd (t=0, X=0) | 9.9989e-06 | 9.9989e-06 | 0.0000e+00 |\n",
      "| Mf (t=61, X=0) | 4.1794e-05 | 4.1794e-05 | 3.2427e-16 |\n",
      "| Mp (t=4, X=2) | 1.5865e-05 | 1.5865e-05 | 2.1356e-16 |\n",
      "| Md (t=258, X=0) | 1.5325e-04 | 1.5325e-04 | 3.5373e-16 |\n",
      "| Lp (t=187, X=2) | 3.0789e-04 | 3.0789e-04 | 3.5214e-16 |\n",
      "| Ld (t=214, X=1) | 2.0739e-05 | 2.0739e-05 | 1.7971e-15 |\n",
      "| benthic_prey (t=327, X=1) | 2.9618e-01 | 2.9618e-01 | 1.6868e-15 |\n"
     ]
    }
   ],
   "source": [
    "compare_nc(baselines_from_nc, testcase.ds[\"biomass\"], nsteps)"
   ]
  }
 ],
 "metadata": {
  "kernelspec": {
   "display_name": "Python [conda env:miniconda3-dev-feisty]",
   "language": "python",
   "name": "conda-env-miniconda3-dev-feisty-py"
  },
  "language_info": {
   "codemirror_mode": {
    "name": "ipython",
    "version": 3
   },
   "file_extension": ".py",
   "mimetype": "text/x-python",
   "name": "python",
   "nbconvert_exporter": "python",
   "pygments_lexer": "ipython3",
   "version": "3.10.1"
  }
 },
 "nbformat": 4,
 "nbformat_minor": 5
}
