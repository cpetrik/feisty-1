{
 "cells": [
  {
   "cell_type": "markdown",
   "id": "4cd7060d",
   "metadata": {
    "tags": []
   },
   "source": [
    "# Running the model\n",
    "\n",
    "Setup a `feisty` integration.\n"
   ]
  },
  {
   "cell_type": "code",
   "execution_count": 1,
   "id": "22be3cd7",
   "metadata": {},
   "outputs": [],
   "source": [
    "%load_ext autoreload\n",
    "%autoreload 2"
   ]
  },
  {
   "cell_type": "code",
   "execution_count": 2,
   "id": "ee8b44b3",
   "metadata": {},
   "outputs": [],
   "source": [
    "import matplotlib.pyplot as plt\n",
    "import numpy as np\n",
    "import xarray as xr\n",
    "import yaml\n",
    "\n",
    "import feisty"
   ]
  },
  {
   "cell_type": "markdown",
   "id": "5f0bb673",
   "metadata": {},
   "source": [
    "## Configure testcase to run\n",
    "\n",
    "TODO: this is using the first column (which I believe is shallowest); want to add deepest column as well.\n",
    "That will require refactoring the yaml file and also changing test_ds."
   ]
  },
  {
   "cell_type": "code",
   "execution_count": 14,
   "id": "cc1c7859",
   "metadata": {},
   "outputs": [],
   "source": [
    "def _comparison(matlab_vals, py_vals, row_name, full_table, seps, thres):\n",
    "    nstep = np.min([len(matlab_vals[\"time\"].data), len(py_vals[\"time\"].data)])\n",
    "    nx = np.min([len(matlab_vals[\"X\"].data), len(py_vals[\"X\"].data)])\n",
    "    matlab_vals = matlab_vals.isel(time=slice(0, nstep), X=slice(0, nx)).data\n",
    "    py_vals = py_vals.isel(time=slice(0, nstep), X=slice(0, nx)).data\n",
    "    if thres:\n",
    "        thres_mask = np.logical_and(np.abs(py_vals) > thres, np.abs(matlab_vals) > thres)\n",
    "        py_vals = np.where(thres_mask, py_vals, 0)\n",
    "        matlab_vals = np.where(thres_mask, matlab_vals, 0)\n",
    "    rel_err_denom = np.where(\n",
    "        matlab_vals != 0, matlab_vals, 1\n",
    "    )  # avoid dividing by 0 in next np.where() statement\n",
    "    if np.any(np.isnan(py_vals)):\n",
    "        print(f\"python has nans for {rowname}!\")\n",
    "        return\n",
    "    rel_errs = np.where(matlab_vals != 0, np.abs((py_vals - matlab_vals) / rel_err_denom), np.nan)\n",
    "    rel_errs = np.where(np.logical_and(np.isnan(rel_errs), py_vals == 0), 0, rel_errs)\n",
    "    rel_errs = np.where(np.logical_and(np.isnan(rel_errs), py_vals > 0), np.inf, rel_errs)\n",
    "    rel_errs = np.where(np.logical_and(np.isnan(rel_errs), py_vals < 0), -np.inf, rel_errs)\n",
    "\n",
    "    if full_table or rel_err > 1e-12:\n",
    "        max_inds = np.nonzero(np.abs(rel_errs) == np.max(np.abs(rel_errs)))\n",
    "        t_ind = max_inds[0][0]\n",
    "        x_ind = max_inds[1][0]\n",
    "        matlab_val = matlab_vals[t_ind][x_ind]\n",
    "        py_val = py_vals[t_ind][x_ind]\n",
    "        rel_err = rel_errs[t_ind][x_ind]\n",
    "        print(\n",
    "            f\"{seps[0]}{row_name} (t={t_ind}, X={x_ind}){seps[1]}{matlab_val:10.4e}{seps[2]}\"\n",
    "            + f\"{py_val:10.4e}{seps[2]}{rel_err:10.4e}{seps[-1]}\"\n",
    "        )\n",
    "\n",
    "\n",
    "def compare_nc(baseline_ds, test_da_or_ds, full_table=True, markdown_formatting=\"true\", thres=None):\n",
    "    if type(test_da_or_ds) == xr.Dataset:\n",
    "        ds = test_da_or_ds\n",
    "        da = None\n",
    "        baseline_da = None\n",
    "        table_header = ''\n",
    "    else:\n",
    "        da = test_da_or_ds\n",
    "        ds = None\n",
    "        da_dims = [\"group\", \"fish\"]\n",
    "        da_dim = ''\n",
    "        for dad in da_dims:\n",
    "            if dad in da.dims:\n",
    "                da_dim = dad\n",
    "                break\n",
    "        baseline_da = baseline_ds[da.name]\n",
    "        table_header = da_dim\n",
    "    if markdown_formatting:\n",
    "        print(f\"| {table_header} | Matlab Value | Python Value | Rel Err |\")\n",
    "        print(\"| --- | --- | --- | --- |\")\n",
    "        seps = [\"| \", \" | \", \" | \", \" |\"]\n",
    "    else:\n",
    "        seps = [\"\", \": \", \", \", \"\"]\n",
    "    if da is not None:\n",
    "        for n, dimname in enumerate(da[da_dim]):\n",
    "            _comparison(\n",
    "                baseline_da.isel({da_dim: n}),\n",
    "                da.isel({da_dim: n}),\n",
    "                dimname.data,\n",
    "                full_table,\n",
    "                seps,\n",
    "                thres,\n",
    "            )\n",
    "    else:\n",
    "        for varname in ds:\n",
    "            _comparison(\n",
    "                baseline_ds.isel(zooplankton=0)[varname],\n",
    "                ds.isel(zooplankton=0)[varname],\n",
    "                varname,\n",
    "                full_table,\n",
    "                seps,\n",
    "                thres,\n",
    "            )"
   ]
  },
  {
   "cell_type": "code",
   "execution_count": 4,
   "id": "daa003d9",
   "metadata": {},
   "outputs": [],
   "source": [
    "# matlab_script = \"test_case\" ; force_nonnegative=True\n",
    "# matlab_script, force_nonnegative = \"test_locs3\", True\n",
    "matlab_script, force_nonnegative = \"FOSI_cesm\", False\n",
    "\n",
    "baselines_from_nc = xr.open_dataset(f'../matlab_baselines/{matlab_script}.nc')\n",
    "\n",
    "nyears = 1\n",
    "settings_in = {}\n",
    "if matlab_script == \"test_case\":\n",
    "    testcase = feisty.config_testcase(\"tanh_shelf\", \"cyclic\")\n",
    "elif matlab_script in [\"test_locs3\", \"FOSI_cesm_daily\", \"FOSI_cesm\"]:\n",
    "    is_locs3 = matlab_script == \"test_locs3\"\n",
    "    if is_locs3:\n",
    "        start_date = '0001-01-01'\n",
    "        nyears = 2\n",
    "    else:\n",
    "        # only changing benthic_prey.defaults.carrying_capacity, food_web[0]['preference'], food_web[1]['preference'], and food_web[2]['preference']\n",
    "        # To say this UI needs work is an understatement\n",
    "        start_date = '0249-01-01'\n",
    "        settings_in['benthic_prey'] = {\n",
    "            'defaults': {'benthic_efficiency': 0.075, 'carrying_capacity': 80},\n",
    "            'members': [{'name': 'benthic_prey'}],\n",
    "        }\n",
    "        settings_in['food_web'] = [\n",
    "            {'predator': 'Sf', 'prey': 'Zoo', 'preference': 0.9},\n",
    "            {'predator': 'Sp', 'prey': 'Zoo', 'preference': 0.9},\n",
    "            {'predator': 'Sd', 'prey': 'Zoo', 'preference': 0.9},\n",
    "            {'predator': 'Mf', 'prey': 'Zoo', 'preference': 0.45},\n",
    "            {'predator': 'Mf', 'prey': 'Sf', 'preference': 1.0},\n",
    "            {'predator': 'Mf', 'prey': 'Sp', 'preference': 1.0},\n",
    "            {'predator': 'Mf', 'prey': 'Sd', 'preference': 1.0},\n",
    "            {'predator': 'Mp', 'prey': 'Zoo', 'preference': 0.45},\n",
    "            {'predator': 'Mp', 'prey': 'Sf', 'preference': 1.0},\n",
    "            {'predator': 'Mp', 'prey': 'Sp', 'preference': 1.0},\n",
    "            {'predator': 'Mp', 'prey': 'Sd', 'preference': 1.0},\n",
    "            {'predator': 'Md', 'prey': 'benthic_prey', 'preference': 1.0},\n",
    "            {'predator': 'Lp', 'prey': 'Mf', 'preference': 0.5},\n",
    "            {'predator': 'Lp', 'prey': 'Mp', 'preference': 1.0},\n",
    "            {'predator': 'Lp', 'prey': 'Md', 'preference': 1.0},\n",
    "            {'predator': 'Ld', 'prey': 'Mf', 'preference': 0.375},\n",
    "            {'predator': 'Ld', 'prey': 'Mp', 'preference': 0.75},\n",
    "            {'predator': 'Ld', 'prey': 'Md', 'preference': 1.0},\n",
    "            {'predator': 'Ld', 'prey': 'benthic_prey', 'preference': 1.0},\n",
    "        ]\n",
    "    testcase = feisty.config_from_netcdf(\n",
    "        './forcing.yaml',\n",
    "        matlab_script,\n",
    "        start_date=start_date,\n",
    "        ignore_year_in_forcing=is_locs3,  # True,\n",
    "        settings_in=settings_in,\n",
    "    )\n",
    "else:\n",
    "    raise ValueError(f\"unknown matlab_script '{matlab_script}'\")\n",
    "\n",
    "# Set negative forcing values to zero\n",
    "if force_nonnegative:\n",
    "    for var in ['poc_flux_bottom', 'zooC', 'zoo_mort']:\n",
    "        baselines_from_nc[var].data = np.where(\n",
    "            baselines_from_nc[var].data > 0, baselines_from_nc[var].data, 0\n",
    "        )"
   ]
  },
  {
   "cell_type": "code",
   "execution_count": 5,
   "id": "95008950-a720-42b4-8231-d24d669507ca",
   "metadata": {},
   "outputs": [
    {
     "name": "stdout",
     "output_type": "stream",
     "text": [
      "|  | Matlab Value | Python Value | Rel Err |\n",
      "| --- | --- | --- | --- |\n",
      "| T_pelagic (t=5, X=5317) | 6.8918e-07 | -1.2154e+00 | 1.7635e+06 |\n",
      "| T_bottom (t=297, X=6919) | -2.7372e-07 | 2.0280e-01 | 7.4092e+05 |\n",
      "| poc_flux_bottom (t=0, X=7569) | 0.0000e+00 | 8.5357e-02 |        inf |\n",
      "| zooC (t=0, X=650) | 0.0000e+00 | 2.7150e+00 |        inf |\n",
      "| zoo_mort (t=0, X=11246) | 0.0000e+00 | 1.2717e-01 |        inf |\n",
      "\n",
      "Max diff in depth: 85.20895599999972\n"
     ]
    }
   ],
   "source": [
    "if testcase.ignore_year:\n",
    "    new_forcing = testcase.forcing.isel(time=slice(1, -1)).transpose('zooplankton', 'time', 'X')\n",
    "else:\n",
    "    new_forcing = testcase.forcing.transpose('zooplankton', 'time', 'X')\n",
    "compare_nc(\n",
    "    baselines_from_nc,\n",
    "    new_forcing,\n",
    ")\n",
    "\n",
    "print(\n",
    "    f\"\\nMax diff in depth: {np.max(np.abs(baselines_from_nc['dep'].data - testcase.obj.domain_dict['bathymetry'].data))}\"\n",
    ")"
   ]
  },
  {
   "cell_type": "markdown",
   "id": "3538b22f",
   "metadata": {},
   "source": [
    "## Run the model\n"
   ]
  },
  {
   "cell_type": "code",
   "execution_count": 6,
   "id": "27086302",
   "metadata": {},
   "outputs": [
    {
     "name": "stdout",
     "output_type": "stream",
     "text": [
      "CPU times: user 4min 54s, sys: 20min 35s, total: 25min 29s\n",
      "Wall time: 1h 37min 26s\n"
     ]
    }
   ],
   "source": [
    "nsteps = nyears * 365\n",
    "make_plot = True\n",
    "%time testcase.run(nsteps)"
   ]
  },
  {
   "cell_type": "code",
   "execution_count": 15,
   "id": "b9b009f0-5956-40f1-85b5-30b4027fbcff",
   "metadata": {},
   "outputs": [
    {
     "name": "stdout",
     "output_type": "stream",
     "text": [
      "| group | Matlab Value | Python Value | Rel Err |\n",
      "| --- | --- | --- | --- |\n",
      "| Sf (t=11, X=15633) | 1.1178e-03 | 2.1996e-02 | 1.8678e+01 |\n",
      "| Sp (t=10, X=15633) | 8.6116e-05 | 1.1066e-03 | 1.1850e+01 |\n",
      "| Sd (t=10, X=15633) | 2.9038e-05 | 3.6319e-04 | 1.1508e+01 |\n",
      "| Mf (t=229, X=11677) | 2.2930e-05 | 7.8569e-06 | 6.5735e-01 |\n",
      "| Mp (t=301, X=10407) | 1.0511e-09 | 4.8833e-10 | 5.3543e-01 |\n",
      "| Md (t=217, X=11677) | 1.5760e-04 | 4.2251e-04 | 1.6809e+00 |\n",
      "| Lp (t=346, X=45523) | 8.1850e-12 | 3.6667e-13 | 9.5520e-01 |\n",
      "| Ld (t=364, X=45524) | 5.0344e-01 | 4.8942e-01 | 2.7858e-02 |\n",
      "| benthic_prey (t=364, X=76989) | 6.2653e-02 | 1.5234e-01 | 1.4314e+00 |\n"
     ]
    }
   ],
   "source": [
    "compare_nc(baselines_from_nc, testcase.ds[\"biomass\"], nsteps, thres=1e-15)"
   ]
  },
  {
   "cell_type": "code",
   "execution_count": null,
   "id": "d904523a",
   "metadata": {},
   "outputs": [],
   "source": [
    "if nsteps > 1 and make_plot:\n",
    "    isel_dict = {\"time\": range(len(testcase.ds.time))}\n",
    "    baselines_tmp = baselines_from_nc.isel(isel_dict).assign_coords(\n",
    "        {'group': testcase.ds.group.data, 'time': testcase.ds.time.data}\n",
    "    )\n",
    "    fig, axs = plt.subplots(1, 2, figsize=(15, 4))\n",
    "    if matlab_script == \"test_case\":\n",
    "        X = 0\n",
    "        ylim = [1e-6, 1]\n",
    "    if matlab_script == \"test_locs3\":\n",
    "        X = 0\n",
    "        ylim = [1e-6, 100]\n",
    "    if matlab_script == \"FOSI_cesm\":\n",
    "        X = 55000  # looks good\n",
    "        # X = 15633  # large error in small classes\n",
    "        # X = 11677  # large error in medium classes\n",
    "        # X = 76989  # large error in benthic\n",
    "        ylim = [5e-7, 50]\n",
    "    for ngroup, group in enumerate(testcase.ds.group.data):\n",
    "        testcase.ds.biomass.sel(group=group).isel(X=X).plot(ax=axs[0])\n",
    "        baselines_tmp.biomass.sel(group=group).isel(X=X).plot(ax=axs[1])\n",
    "        # try:\n",
    "        #     baselines_from_nc.biomass.sel(group=group).isel(X=X).plot(ax=axs[1])\n",
    "        # except:\n",
    "        #     try:\n",
    "        #         baselines_from_nc.biomass.sel(group=group.encode('UTF-8')).isel(X=X).plot(ax=axs[1])\n",
    "        #     except:\n",
    "        #         baselines_from_nc.biomass.isel(group=ngroup).isel(X=X).plot(ax=axs[1])\n",
    "    for ax in axs:\n",
    "        ax.set_ylim(ylim)\n",
    "        ax.set_yscale(\"log\")\n",
    "    axs[0].set_title(\"python\")\n",
    "    axs[1].set_title(\"matlab\")\n",
    "    axs[1].set_ylabel(\"\")\n",
    "    axs[1].set_yticklabels(\"\")\n",
    "    plt.legend(testcase.ds.group.data, bbox_to_anchor=(1.025, 0.5), loc=6)\n",
    "    fig.suptitle(f\"Comparison at X={X}\")"
   ]
  },
  {
   "cell_type": "code",
   "execution_count": null,
   "id": "7de29269-a91b-4da9-9fdd-846a29eef43e",
   "metadata": {},
   "outputs": [],
   "source": [
    "if nsteps > 1 and make_plot:\n",
    "    fig, axs = plt.subplots(1, 2, figsize=(15, 4))\n",
    "    for ngroup, group in enumerate(testcase.ds.group.data):\n",
    "        da1 = testcase.ds.biomass.sel(group=group).isel(X=X)\n",
    "        da2 = baselines_tmp.biomass.sel(group=group).isel(X=X)\n",
    "        (da1 - da2).plot(ax=axs[0])\n",
    "        (np.abs(da1 - da2) / da2).plot(ax=axs[1])\n",
    "    axs[0].set_title(\"absolute error\")\n",
    "    axs[0].set_ylabel(\"\")\n",
    "    axs[1].set_title(\"relative error\")\n",
    "    axs[1].set_ylabel(\"\")\n",
    "    axs[1].set_yscale(\"log\")\n",
    "    plt.legend(testcase.ds.group.data, bbox_to_anchor=(1.025, 0.5), loc=6)\n",
    "    plt.title(\"Relative Error\")\n",
    "    fig.suptitle(f\"Comparison at X={X}\")"
   ]
  },
  {
   "cell_type": "code",
   "execution_count": 10,
   "id": "34f858fd-d237-435f-a495-fd9a8530c0ac",
   "metadata": {},
   "outputs": [
    {
     "name": "stdout",
     "output_type": "stream",
     "text": [
      "| group | Matlab Value | Python Value | Rel Err |\n",
      "| --- | --- | --- | --- |\n",
      "| Sf (t=364, X=0) | 6.7385e-03 | 6.4911e-03 | 3.6704e-02 |\n",
      "| Sp (t=364, X=0) | 2.4204e-06 | 2.3345e-06 | 3.5493e-02 |\n",
      "| Sd (t=364, X=0) | 3.3327e-05 | 3.2329e-05 | 2.9936e-02 |\n",
      "| Mf (t=298, X=0) | 2.1324e+00 | 2.1326e+00 | 9.9782e-05 |\n",
      "| Mp (t=314, X=0) | 9.8662e-04 | 9.8668e-04 | 6.8555e-05 |\n",
      "| Md (t=297, X=0) | 1.2150e-02 | 1.2151e-02 | 7.5675e-05 |\n",
      "| Lp (t=314, X=0) | 2.2667e-02 | 2.2673e-02 | 2.5694e-04 |\n",
      "| Ld (t=364, X=0) | 2.1164e-01 | 2.1165e-01 | 6.8773e-06 |\n",
      "| benthic_prey (t=364, X=0) | 2.0469e+01 | 2.0469e+01 | 4.3050e-05 |\n"
     ]
    }
   ],
   "source": [
    "compare_nc(baselines_from_nc.isel(X=[X]), testcase.ds[\"biomass\"].isel(X=[X]), nsteps, thres=1e-15)"
   ]
  }
 ],
 "metadata": {
  "kernelspec": {
   "display_name": "Python [conda env:miniconda3-dev-feisty]",
   "language": "python",
   "name": "conda-env-miniconda3-dev-feisty-py"
  },
  "language_info": {
   "codemirror_mode": {
    "name": "ipython",
    "version": 3
   },
   "file_extension": ".py",
   "mimetype": "text/x-python",
   "name": "python",
   "nbconvert_exporter": "python",
   "pygments_lexer": "ipython3",
   "version": "3.10.1"
  }
 },
 "nbformat": 4,
 "nbformat_minor": 5
}
