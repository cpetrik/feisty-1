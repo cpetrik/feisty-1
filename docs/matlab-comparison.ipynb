{
 "cells": [
  {
   "cell_type": "markdown",
   "id": "4cd7060d",
   "metadata": {
    "tags": []
   },
   "source": [
    "# Running the model\n",
    "\n",
    "Setup a `feisty` integration.\n"
   ]
  },
  {
   "cell_type": "code",
   "execution_count": 1,
   "id": "22be3cd7",
   "metadata": {},
   "outputs": [],
   "source": [
    "%load_ext autoreload\n",
    "%autoreload 2"
   ]
  },
  {
   "cell_type": "code",
   "execution_count": 2,
   "id": "ee8b44b3",
   "metadata": {},
   "outputs": [],
   "source": [
    "import matplotlib.pyplot as plt\n",
    "import numpy as np\n",
    "import xarray as xr\n",
    "import yaml\n",
    "\n",
    "import feisty"
   ]
  },
  {
   "cell_type": "markdown",
   "id": "5f0bb673",
   "metadata": {},
   "source": [
    "## Configure testcase to run\n",
    "\n",
    "TODO: this is using the first column (which I believe is shallowest); want to add deepest column as well.\n",
    "That will require refactoring the yaml file and also changing test_ds."
   ]
  },
  {
   "cell_type": "code",
   "execution_count": 3,
   "id": "cc1c7859",
   "metadata": {},
   "outputs": [],
   "source": [
    "def _comparison(matlab_vals, py_vals, row_name, full_table, seps, thres):\n",
    "    nstep = np.min([len(matlab_vals[\"time\"].data), len(py_vals[\"time\"].data)])\n",
    "    nx = np.min([len(matlab_vals[\"X\"].data), len(py_vals[\"X\"].data)])\n",
    "    matlab_vals = matlab_vals.isel(time=slice(0, nstep), X=slice(0, nx)).data\n",
    "    py_vals = py_vals.isel(time=slice(0, nstep), X=slice(0, nx)).data\n",
    "    if thres:\n",
    "        matlab_vals = np.where(np.abs(matlab_vals) > thres, matlab_vals, 0)\n",
    "        py_vals = np.where(np.abs(py_vals) > thres, py_vals, 0)\n",
    "    rel_err_denom = np.where(\n",
    "        matlab_vals != 0, matlab_vals, 1\n",
    "    )  # avoid dividing by 0 in next np.where() statement\n",
    "    if np.any(np.isnan(py_vals)):\n",
    "        print(f\"python has nans for {rowname}!\")\n",
    "        return\n",
    "    rel_errs = np.where(matlab_vals != 0, np.abs((py_vals - matlab_vals) / rel_err_denom), np.nan)\n",
    "    rel_errs = np.where(np.logical_and(np.isnan(rel_errs), py_vals == 0), 0, rel_errs)\n",
    "    rel_errs = np.where(np.logical_and(np.isnan(rel_errs), py_vals > 0), np.inf, rel_errs)\n",
    "    rel_errs = np.where(np.logical_and(np.isnan(rel_errs), py_vals < 0), -np.inf, rel_errs)\n",
    "\n",
    "    if full_table or rel_err > 1e-12:\n",
    "        max_inds = np.nonzero(np.abs(rel_errs) == np.max(np.abs(rel_errs)))\n",
    "        t_ind = max_inds[0][0]\n",
    "        x_ind = max_inds[1][0]\n",
    "        matlab_val = matlab_vals[t_ind][x_ind]\n",
    "        py_val = py_vals[t_ind][x_ind]\n",
    "        rel_err = rel_errs[t_ind][x_ind]\n",
    "        print(\n",
    "            f\"{seps[0]}{row_name} (t={t_ind}, X={x_ind}){seps[1]}{matlab_val:10.4e}{seps[2]}\"\n",
    "            + f\"{py_val:10.4e}{seps[2]}{rel_err:10.4e}{seps[-1]}\"\n",
    "        )\n",
    "\n",
    "\n",
    "def compare_nc(baseline_ds, test_da_or_ds, full_table=True, markdown_formatting=\"true\", thres=None):\n",
    "    if type(test_da_or_ds) == xr.Dataset:\n",
    "        ds = test_da_or_ds\n",
    "        da = None\n",
    "        baseline_da = None\n",
    "        table_header = ''\n",
    "    else:\n",
    "        da = test_da_or_ds\n",
    "        ds = None\n",
    "        da_dims = [\"group\", \"fish\"]\n",
    "        da_dim = ''\n",
    "        for dad in da_dims:\n",
    "            if dad in da.dims:\n",
    "                da_dim = dad\n",
    "                break\n",
    "        baseline_da = baseline_ds[da.name]\n",
    "        table_header = da_dim\n",
    "    if markdown_formatting:\n",
    "        print(f\"| {table_header} | Matlab Value | Python Value | Rel Err |\")\n",
    "        print(\"| --- | --- | --- | --- |\")\n",
    "        seps = [\"| \", \" | \", \" | \", \" |\"]\n",
    "    else:\n",
    "        seps = [\"\", \": \", \", \", \"\"]\n",
    "    if da is not None:\n",
    "        for n, dimname in enumerate(da[da_dim]):\n",
    "            _comparison(\n",
    "                baseline_da.isel({da_dim: n}),\n",
    "                da.isel({da_dim: n}),\n",
    "                dimname.data,\n",
    "                full_table,\n",
    "                seps,\n",
    "                thres,\n",
    "            )\n",
    "    else:\n",
    "        for varname in ds:\n",
    "            _comparison(\n",
    "                baseline_ds.isel(zooplankton=0)[varname],\n",
    "                ds.isel(zooplankton=0)[varname],\n",
    "                varname,\n",
    "                full_table,\n",
    "                seps,\n",
    "                thres,\n",
    "            )"
   ]
  },
  {
   "cell_type": "code",
   "execution_count": 4,
   "id": "daa003d9",
   "metadata": {},
   "outputs": [],
   "source": [
    "# matlab_script = \"test_case\" ; force_nonnegative=True\n",
    "matlab_script, force_nonnegative = \"test_locs3\", True\n",
    "matlab_script, force_nonnegative = \"FOSI_cesm\", False\n",
    "\n",
    "baselines_from_nc = xr.open_dataset(f'../matlab_baselines/{matlab_script}.nc')\n",
    "\n",
    "nyears = 1\n",
    "settings_in = {}\n",
    "if matlab_script == \"test_case\":\n",
    "    testcase = feisty.config_testcase(\"tanh_shelf\", \"cyclic\")\n",
    "elif matlab_script in [\"test_locs3\", \"FOSI_cesm\"]:\n",
    "    is_locs3 = matlab_script == \"test_locs3\"\n",
    "    if is_locs3:\n",
    "        nyears = 2\n",
    "    else:\n",
    "        # only changing benthic_prey.defaults.carrying_capacity, food_web[0]['preference'], food_web[1]['preference'], and food_web[2]['preference']\n",
    "        # To say this UI needs work is an understatement\n",
    "        settings_in['benthic_prey'] = {\n",
    "            'defaults': {'benthic_efficiency': 0.075, 'carrying_capacity': 80},\n",
    "            'members': [{'name': 'benthic_prey'}],\n",
    "        }\n",
    "        settings_in['food_web'] = [\n",
    "            {'predator': 'Sf', 'prey': 'Zoo', 'preference': 0.9},\n",
    "            {'predator': 'Sp', 'prey': 'Zoo', 'preference': 0.9},\n",
    "            {'predator': 'Sd', 'prey': 'Zoo', 'preference': 0.9},\n",
    "            {'predator': 'Mf', 'prey': 'Zoo', 'preference': 0.45},\n",
    "            {'predator': 'Mf', 'prey': 'Sf', 'preference': 1.0},\n",
    "            {'predator': 'Mf', 'prey': 'Sp', 'preference': 1.0},\n",
    "            {'predator': 'Mf', 'prey': 'Sd', 'preference': 1.0},\n",
    "            {'predator': 'Mp', 'prey': 'Zoo', 'preference': 0.45},\n",
    "            {'predator': 'Mp', 'prey': 'Sf', 'preference': 1.0},\n",
    "            {'predator': 'Mp', 'prey': 'Sp', 'preference': 1.0},\n",
    "            {'predator': 'Mp', 'prey': 'Sd', 'preference': 1.0},\n",
    "            {'predator': 'Md', 'prey': 'benthic_prey', 'preference': 1.0},\n",
    "            {'predator': 'Lp', 'prey': 'Mf', 'preference': 0.5},\n",
    "            {'predator': 'Lp', 'prey': 'Mp', 'preference': 1.0},\n",
    "            {'predator': 'Lp', 'prey': 'Md', 'preference': 1.0},\n",
    "            {'predator': 'Ld', 'prey': 'Mf', 'preference': 0.375},\n",
    "            {'predator': 'Ld', 'prey': 'Mp', 'preference': 0.75},\n",
    "            {'predator': 'Ld', 'prey': 'Md', 'preference': 1.0},\n",
    "            {'predator': 'Ld', 'prey': 'benthic_prey', 'preference': 1.0},\n",
    "        ]\n",
    "    testcase = feisty.config_from_netcdf(\n",
    "        './forcing.yaml',\n",
    "        matlab_script,\n",
    "        ignore_year_in_forcing=is_locs3,  # True,\n",
    "        settings_in=settings_in,\n",
    "    )\n",
    "else:\n",
    "    raise ValueError(f\"unknown matlab_script '{matlab_script}'\")\n",
    "\n",
    "# Set negative forcing values to zero\n",
    "if force_nonnegative:\n",
    "    for var in ['poc_flux_bottom', 'zooC', 'zoo_mort']:\n",
    "        baselines_from_nc[var].data = np.where(\n",
    "            baselines_from_nc[var].data > 0, baselines_from_nc[var].data, 0\n",
    "        )"
   ]
  },
  {
   "cell_type": "code",
   "execution_count": 5,
   "id": "95008950-a720-42b4-8231-d24d669507ca",
   "metadata": {},
   "outputs": [
    {
     "name": "stdout",
     "output_type": "stream",
     "text": [
      "|  | Matlab Value | Python Value | Rel Err |\n",
      "| --- | --- | --- | --- |\n",
      "| T_pelagic (t=0, X=0) | -1.6900e+00 | -1.6900e+00 | 0.0000e+00 |\n",
      "| T_bottom (t=0, X=0) | -1.7382e+00 | -1.7382e+00 | 0.0000e+00 |\n",
      "| poc_flux_bottom (t=0, X=0) | 3.0023e-01 | 3.0023e-01 | 0.0000e+00 |\n",
      "| zooC (t=0, X=0) | 9.6238e+00 | 9.6238e+00 | 0.0000e+00 |\n",
      "| zoo_mort (t=0, X=0) | 8.1119e-01 | 8.1119e-01 | 0.0000e+00 |\n",
      "\n",
      "Max diff in depth: 0.0\n"
     ]
    }
   ],
   "source": [
    "if testcase.ignore_year:\n",
    "    new_forcing = testcase.forcing.isel(time=slice(1, -1)).transpose('zooplankton', 'time', 'X')\n",
    "else:\n",
    "    new_forcing = testcase.forcing.transpose('zooplankton', 'time', 'X')\n",
    "compare_nc(\n",
    "    baselines_from_nc,\n",
    "    new_forcing,\n",
    ")\n",
    "\n",
    "print(\n",
    "    f\"\\nMax diff in depth: {np.max(np.abs(baselines_from_nc['dep'].data - testcase.obj.domain_dict['bathymetry'].data))}\"\n",
    ")"
   ]
  },
  {
   "cell_type": "raw",
   "id": "ea2b48d9-6fb6-438c-8214-7cb3656b6c8b",
   "metadata": {},
   "source": [
    "testcase.forcing[\"T_pelagic\"].isel(X=0).plot()"
   ]
  },
  {
   "cell_type": "markdown",
   "id": "3538b22f",
   "metadata": {},
   "source": [
    "## Run the model\n"
   ]
  },
  {
   "cell_type": "code",
   "execution_count": 6,
   "id": "27086302",
   "metadata": {},
   "outputs": [
    {
     "name": "stdout",
     "output_type": "stream",
     "text": [
      "CPU times: user 5min, sys: 18min 26s, total: 23min 26s\n",
      "Wall time: 1h 33min 51s\n"
     ]
    }
   ],
   "source": [
    "nsteps = nyears * 365\n",
    "make_plot = False\n",
    "%time testcase.run(nsteps)"
   ]
  },
  {
   "cell_type": "code",
   "execution_count": 7,
   "id": "d904523a",
   "metadata": {},
   "outputs": [],
   "source": [
    "if nsteps > 1 and make_plot:\n",
    "    for group in testcase.ds.group.data:\n",
    "        testcase.ds.biomass.sel(group=group).isel(X=0).plot()\n",
    "    if matlab_script == \"test_case\":\n",
    "        plt.ylim([1e-6, 1])\n",
    "    if matlab_script == \"test_locs3\":\n",
    "        plt.ylim([5e-6, 50])\n",
    "    plt.yscale(\"log\")\n",
    "    plt.legend(testcase.ds.group.data)"
   ]
  },
  {
   "cell_type": "code",
   "execution_count": 8,
   "id": "b9b009f0-5956-40f1-85b5-30b4027fbcff",
   "metadata": {},
   "outputs": [
    {
     "name": "stdout",
     "output_type": "stream",
     "text": [
      "| group | Matlab Value | Python Value | Rel Err |\n",
      "| --- | --- | --- | --- |\n",
      "| Sf (t=258, X=60616) | 1.5367e-02 | 1.5367e-02 | 2.9886e-11 |\n",
      "| Sp (t=138, X=799) | 3.0873e-26 | 3.0873e-26 | 1.4703e-10 |\n",
      "| Sd (t=258, X=60616) | 3.2256e-05 | 3.2256e-05 | 2.9868e-11 |\n",
      "| Mf (t=364, X=72257) | 2.5577e+00 | 2.5577e+00 | 5.8565e-13 |\n",
      "| Mp (t=248, X=12340) | 3.0945e-01 | 3.0945e-01 | 6.2886e-12 |\n",
      "| Md (t=330, X=2822) | 6.4599e-01 | 6.4599e-01 | 2.4319e-13 |\n",
      "| Lp (t=284, X=54698) | 9.8967e-205 | 9.8967e-205 | 4.0915e-11 |\n",
      "| Ld (t=257, X=39946) | 4.9865e+00 | 4.9865e+00 | 5.5929e-14 |\n",
      "| benthic_prey (t=134, X=77347) | 5.0557e-01 | 5.0557e-01 | 2.1016e-13 |\n"
     ]
    }
   ],
   "source": [
    "compare_nc(baselines_from_nc, testcase.ds[\"biomass\"], nsteps, thres=1e-300)"
   ]
  }
 ],
 "metadata": {
  "kernelspec": {
   "display_name": "Python [conda env:miniconda3-dev-feisty]",
   "language": "python",
   "name": "conda-env-miniconda3-dev-feisty-py"
  },
  "language_info": {
   "codemirror_mode": {
    "name": "ipython",
    "version": 3
   },
   "file_extension": ".py",
   "mimetype": "text/x-python",
   "name": "python",
   "nbconvert_exporter": "python",
   "pygments_lexer": "ipython3",
   "version": "3.10.1"
  }
 },
 "nbformat": 4,
 "nbformat_minor": 5
}
