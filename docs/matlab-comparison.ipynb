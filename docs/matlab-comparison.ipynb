{
 "cells": [
  {
   "cell_type": "markdown",
   "id": "4cd7060d",
   "metadata": {
    "tags": []
   },
   "source": [
    "# Running the model\n",
    "\n",
    "Setup a `feisty` integration.\n"
   ]
  },
  {
   "cell_type": "code",
   "execution_count": 1,
   "id": "22be3cd7",
   "metadata": {},
   "outputs": [],
   "source": [
    "%load_ext autoreload\n",
    "%autoreload 2"
   ]
  },
  {
   "cell_type": "code",
   "execution_count": 2,
   "id": "ee8b44b3",
   "metadata": {},
   "outputs": [],
   "source": [
    "import matplotlib.pyplot as plt\n",
    "import numpy as np\n",
    "import xarray as xr\n",
    "import yaml\n",
    "\n",
    "import feisty"
   ]
  },
  {
   "cell_type": "markdown",
   "id": "5f0bb673",
   "metadata": {},
   "source": [
    "## Configure testcase to run\n",
    "\n",
    "TODO: this is using the first column (which I believe is shallowest); want to add deepest column as well.\n",
    "That will require refactoring the yaml file and also changing test_ds."
   ]
  },
  {
   "cell_type": "code",
   "execution_count": 3,
   "id": "cc1c7859",
   "metadata": {},
   "outputs": [],
   "source": [
    "def _comparison(matlab_vals, py_vals, row_name, full_table, seps, thres):\n",
    "    nstep = np.min([len(matlab_vals[\"time\"].data), len(py_vals[\"time\"].data)])\n",
    "    nx = np.min([len(matlab_vals[\"X\"].data), len(py_vals[\"X\"].data)])\n",
    "    matlab_vals = matlab_vals.isel(time=slice(0, nstep), X=slice(0, nx)).data\n",
    "    py_vals = py_vals.isel(time=slice(0, nstep), X=slice(0, nx)).data\n",
    "    if thres:\n",
    "        thres_mask = np.logical_and(np.abs(py_vals) > thres, np.abs(matlab_vals) > thres)\n",
    "        py_vals = np.where(thres_mask, py_vals, 0)\n",
    "        matlab_vals = np.where(thres_mask, matlab_vals, 0)\n",
    "    rel_err_denom = np.where(\n",
    "        matlab_vals != 0, matlab_vals, 1\n",
    "    )  # avoid dividing by 0 in next np.where() statement\n",
    "    if np.any(np.isnan(py_vals)):\n",
    "        print(f\"python has nans for {rowname}!\")\n",
    "        return\n",
    "    rel_errs = np.where(matlab_vals != 0, np.abs((py_vals - matlab_vals) / rel_err_denom), np.nan)\n",
    "    rel_errs = np.where(np.logical_and(np.isnan(rel_errs), py_vals == 0), 0, rel_errs)\n",
    "    rel_errs = np.where(np.logical_and(np.isnan(rel_errs), py_vals > 0), np.inf, rel_errs)\n",
    "    rel_errs = np.where(np.logical_and(np.isnan(rel_errs), py_vals < 0), -np.inf, rel_errs)\n",
    "\n",
    "    if full_table or rel_err > 1e-12:\n",
    "        max_inds = np.nonzero(np.abs(rel_errs) == np.max(np.abs(rel_errs)))\n",
    "        t_ind = max_inds[0][0]\n",
    "        x_ind = max_inds[1][0]\n",
    "        matlab_val = matlab_vals[t_ind][x_ind]\n",
    "        py_val = py_vals[t_ind][x_ind]\n",
    "        rel_err = rel_errs[t_ind][x_ind]\n",
    "        print(\n",
    "            f\"{seps[0]}{row_name} (t={t_ind}, X={x_ind}){seps[1]}{matlab_val:10.4e}{seps[2]}\"\n",
    "            + f\"{py_val:10.4e}{seps[2]}{rel_err:10.4e}{seps[-1]}\"\n",
    "        )\n",
    "\n",
    "\n",
    "def compare_nc(baseline_ds, test_da_or_ds, full_table=True, markdown_formatting=\"true\", thres=None):\n",
    "    if type(test_da_or_ds) == xr.Dataset:\n",
    "        ds = test_da_or_ds\n",
    "        da = None\n",
    "        baseline_da = None\n",
    "        table_header = ''\n",
    "    else:\n",
    "        da = test_da_or_ds\n",
    "        ds = None\n",
    "        da_dims = [\"group\", \"fish\"]\n",
    "        da_dim = ''\n",
    "        for dad in da_dims:\n",
    "            if dad in da.dims:\n",
    "                da_dim = dad\n",
    "                break\n",
    "        baseline_da = baseline_ds[da.name]\n",
    "        table_header = da_dim\n",
    "    if markdown_formatting:\n",
    "        print(f\"| {table_header} | Matlab Value | Python Value | Rel Err |\")\n",
    "        print(\"| --- | --- | --- | --- |\")\n",
    "        seps = [\"| \", \" | \", \" | \", \" |\"]\n",
    "    else:\n",
    "        seps = [\"\", \": \", \", \", \"\"]\n",
    "    if da is not None:\n",
    "        for n, dimname in enumerate(da[da_dim]):\n",
    "            _comparison(\n",
    "                baseline_da.isel({da_dim: n}),\n",
    "                da.isel({da_dim: n}),\n",
    "                dimname.data,\n",
    "                full_table,\n",
    "                seps,\n",
    "                thres,\n",
    "            )\n",
    "    else:\n",
    "        for varname in ds:\n",
    "            _comparison(\n",
    "                baseline_ds.isel(zooplankton=0)[varname],\n",
    "                ds.isel(zooplankton=0)[varname],\n",
    "                varname,\n",
    "                full_table,\n",
    "                seps,\n",
    "                thres,\n",
    "            )"
   ]
  },
  {
   "cell_type": "code",
   "execution_count": 4,
   "id": "28331de7-b41c-4b38-859e-a23166581b6a",
   "metadata": {},
   "outputs": [],
   "source": [
    "# Configuration settings for the offline driver as well as output generated in this notebook\n",
    "\n",
    "driver_config = dict()\n",
    "for matlab_script in ['test_case', 'test_locs3', 'FOSI_cesm', 'FOSI_cesm_daily', 'FOSI_spinup']:\n",
    "    driver_config[matlab_script] = dict()\n",
    "    # default settings\n",
    "    driver_config[matlab_script][\n",
    "        'compare_forcing'\n",
    "    ] = True  # Generate table to compare forcing to matlab\n",
    "    driver_config[matlab_script][\n",
    "        'force_nonnegative'\n",
    "    ] = True  # When computing table to compare forcing to matlab, replace negative values of poc_flux_bottom, zooC, and zooC_mort with 0\n",
    "    driver_config[matlab_script][\n",
    "        'start_date'\n",
    "    ] = '0001-01-01'  # Model date at beginning of simulation\n",
    "    driver_config[matlab_script]['nyears'] = 1  # Length of run (in years)\n",
    "    driver_config[matlab_script][\n",
    "        'ignore_year_in_forcing'\n",
    "    ] = False  # Cycle the forcing (assumes a single year of forcing is provided)\n",
    "    driver_config[matlab_script][\n",
    "        'settings_in'\n",
    "    ] = {}  # Override FEISTY settings from feisty/core/default_settings.yml\n",
    "    driver_config[matlab_script]['make_plots'] = False  # Run cells that generate plots?\n",
    "    driver_config[matlab_script]['plot_settings'] = dict()\n",
    "    driver_config[matlab_script]['plot_settings']['X'] = 0  # Column to plot output from\n",
    "    driver_config[matlab_script]['plot_settings']['ylim'] = [5e-7, 50]  # y limits for biomass plots\n",
    "\n",
    "# configurations that differ from default\n",
    "driver_config['test_case']['ignore_year_in_forcing'] = True\n",
    "driver_config['test_locs3']['ignore_year_in_forcing'] = True\n",
    "driver_config['test_locs3']['FOSI_spinup'] = True\n",
    "driver_config['test_locs3']['nyears'] = 2\n",
    "driver_config['test_case']['plot_settings']['ylim'] = [1e-6, 1]\n",
    "driver_config['test_locs3']['plot_settings']['ylim'] = [1e-6, 100]\n",
    "for matlab_script in ['FOSI_cesm', 'FOSI_cesm_daily', 'FOSI_spinup']:\n",
    "    driver_config[matlab_script]['plot_settings']['X'] = 55000  # looks good\n",
    "    # driver_config[matlab_script]['plot_settings']['X'] = 15633  # large error in small classes\n",
    "    # driver_config[matlab_script]['plot_settings']['X'] = 11677  # large error in medium classes\n",
    "    # driver_config[matlab_script]['plot_settings']['X'] = 55000  76989  # large error in benthic\n",
    "\n",
    "for matlab_script in ['test_case', 'test_locs3']:\n",
    "    driver_config[matlab_script]['settings_in']['benthic_prey'] = {\n",
    "        'defaults': {'benthic_efficiency': 0.075, 'carrying_capacity': 0},\n",
    "        'members': [{'name': 'benthic_prey'}],\n",
    "    }\n",
    "    driver_config[matlab_script]['settings_in']['food_web'] = [\n",
    "        {'predator': 'Sf', 'prey': 'Zoo', 'preference': 1.0},\n",
    "        {'predator': 'Sp', 'prey': 'Zoo', 'preference': 1.0},\n",
    "        {'predator': 'Sd', 'prey': 'Zoo', 'preference': 1.0},\n",
    "        {'predator': 'Mf', 'prey': 'Zoo', 'preference': 0.45},\n",
    "        {'predator': 'Mf', 'prey': 'Sf', 'preference': 1.0},\n",
    "        {'predator': 'Mf', 'prey': 'Sp', 'preference': 1.0},\n",
    "        {'predator': 'Mf', 'prey': 'Sd', 'preference': 1.0},\n",
    "        {'predator': 'Mp', 'prey': 'Zoo', 'preference': 0.45},\n",
    "        {'predator': 'Mp', 'prey': 'Sf', 'preference': 1.0},\n",
    "        {'predator': 'Mp', 'prey': 'Sp', 'preference': 1.0},\n",
    "        {'predator': 'Mp', 'prey': 'Sd', 'preference': 1.0},\n",
    "        {'predator': 'Md', 'prey': 'benthic_prey', 'preference': 1.0},\n",
    "        {'predator': 'Lp', 'prey': 'Mf', 'preference': 0.5},\n",
    "        {'predator': 'Lp', 'prey': 'Mp', 'preference': 1.0},\n",
    "        {'predator': 'Lp', 'prey': 'Md', 'preference': 1.0},\n",
    "        {'predator': 'Ld', 'prey': 'Mf', 'preference': 0.375},\n",
    "        {'predator': 'Ld', 'prey': 'Mp', 'preference': 0.75},\n",
    "        {'predator': 'Ld', 'prey': 'Md', 'preference': 1.0},\n",
    "        {'predator': 'Ld', 'prey': 'benthic_prey', 'preference': 1.0},\n",
    "    ]"
   ]
  },
  {
   "cell_type": "code",
   "execution_count": 5,
   "id": "daa003d9",
   "metadata": {},
   "outputs": [],
   "source": [
    "matlab_script = 'test_case'\n",
    "# matlab_script = 'test_locs3'\n",
    "# matlab_script = 'FOSI_cesm'\n",
    "\n",
    "baselines_from_nc = xr.open_dataset(f'../matlab_baselines/{matlab_script}.nc')\n",
    "\n",
    "if matlab_script not in driver_config:\n",
    "    raise ValueError(f\"unknown matlab_script '{matlab_script}'\")\n",
    "\n",
    "if matlab_script == 'test_case':\n",
    "    testcase = feisty.config_testcase('tanh_shelf', 'cyclic')\n",
    "else:\n",
    "    testcase = feisty.config_from_netcdf(\n",
    "        './forcing.yaml',\n",
    "        matlab_script,\n",
    "        start_date=driver_config[matlab_script]['start_date'],\n",
    "        ignore_year_in_forcing=driver_config[matlab_script]['ignore_year_in_forcing'],  # True,\n",
    "        settings_in=driver_config[matlab_script]['settings_in'],\n",
    "    )\n",
    "\n",
    "# Set negative forcing values to zero\n",
    "if driver_config[matlab_script]['force_nonnegative']:\n",
    "    for var in ['poc_flux_bottom', 'zooC', 'zoo_mort']:\n",
    "        baselines_from_nc[var].data = np.where(\n",
    "            baselines_from_nc[var].data > 0, baselines_from_nc[var].data, 0\n",
    "        )"
   ]
  },
  {
   "cell_type": "code",
   "execution_count": 6,
   "id": "95008950-a720-42b4-8231-d24d669507ca",
   "metadata": {},
   "outputs": [
    {
     "name": "stdout",
     "output_type": "stream",
     "text": [
      "|  | Matlab Value | Python Value | Rel Err |\n",
      "| --- | --- | --- | --- |\n",
      "| T_pelagic (t=0, X=0) | 1.8200e+01 | 1.8200e+01 | 0.0000e+00 |\n",
      "| T_bottom (t=0, X=0) | 4.2000e+00 | 4.2000e+00 | 0.0000e+00 |\n",
      "| poc_flux_bottom (t=0, X=0) | 2.7847e-02 | 2.7847e-02 | 0.0000e+00 |\n",
      "| zooC (t=0, X=0) | 3.3287e+00 | 3.3287e+00 | 0.0000e+00 |\n",
      "| zoo_mort (t=0, X=0) | 7.7564e-01 | 7.7564e-01 | 0.0000e+00 |\n",
      "\n",
      "Max diff in depth: 0.0\n"
     ]
    }
   ],
   "source": [
    "if driver_config[matlab_script]['compare_forcing']:\n",
    "    if testcase.ignore_year:\n",
    "        new_forcing = testcase.forcing.isel(time=slice(1, -1)).transpose('zooplankton', 'time', 'X')\n",
    "    else:\n",
    "        new_forcing = testcase.forcing.transpose('zooplankton', 'time', 'X')\n",
    "    compare_nc(\n",
    "        baselines_from_nc,\n",
    "        new_forcing,\n",
    "    )\n",
    "\n",
    "    print(\n",
    "        f\"\\nMax diff in depth: {np.max(np.abs(baselines_from_nc['dep'].data - testcase.obj.domain_dict['bathymetry'].data))}\"\n",
    "    )"
   ]
  },
  {
   "cell_type": "markdown",
   "id": "3538b22f",
   "metadata": {},
   "source": [
    "## Run the model\n"
   ]
  },
  {
   "cell_type": "code",
   "execution_count": 7,
   "id": "27086302",
   "metadata": {},
   "outputs": [
    {
     "name": "stdout",
     "output_type": "stream",
     "text": [
      "CPU times: user 13.5 s, sys: 45.5 ms, total: 13.5 s\n",
      "Wall time: 15.2 s\n"
     ]
    }
   ],
   "source": [
    "nsteps = driver_config[matlab_script]['nyears'] * 365\n",
    "%time testcase.run(nsteps)"
   ]
  },
  {
   "cell_type": "code",
   "execution_count": 8,
   "id": "b9b009f0-5956-40f1-85b5-30b4027fbcff",
   "metadata": {},
   "outputs": [
    {
     "name": "stdout",
     "output_type": "stream",
     "text": [
      "| group | Matlab Value | Python Value | Rel Err |\n",
      "| --- | --- | --- | --- |\n",
      "| Sf (t=364, X=6) | 1.7697e-05 | 1.7603e-05 | 5.2707e-03 |\n",
      "| Sp (t=364, X=6) | 9.3653e-06 | 9.3727e-06 | 7.9145e-04 |\n",
      "| Sd (t=364, X=6) | 9.3653e-06 | 9.3727e-06 | 7.9145e-04 |\n",
      "| Mf (t=364, X=6) | 4.0856e-04 | 4.0268e-04 | 1.4391e-02 |\n",
      "| Mp (t=364, X=6) | 3.1926e-04 | 3.1557e-04 | 1.1546e-02 |\n",
      "| Md (t=364, X=21) | 1.9771e-04 | 1.9534e-04 | 1.1988e-02 |\n",
      "| Lp (t=364, X=6) | 4.7388e-04 | 4.6868e-04 | 1.0972e-02 |\n",
      "| Ld (t=364, X=0) | 2.2687e-04 | 2.2398e-04 | 1.2757e-02 |\n",
      "| benthic_prey (t=364, X=0) | 6.3646e-01 | 6.3395e-01 | 3.9481e-03 |\n"
     ]
    }
   ],
   "source": [
    "compare_nc(baselines_from_nc, testcase.ds[\"biomass\"], nsteps, thres=1e-15)"
   ]
  },
  {
   "cell_type": "code",
   "execution_count": 9,
   "id": "d904523a",
   "metadata": {},
   "outputs": [],
   "source": [
    "if driver_config[matlab_script]['make_plots']:\n",
    "    isel_dict = {\"time\": range(len(testcase.ds.time))}\n",
    "    baselines_tmp = baselines_from_nc.isel(isel_dict).assign_coords(\n",
    "        {'group': testcase.ds.group.data, 'time': testcase.ds.time.data}\n",
    "    )\n",
    "    fig, axs = plt.subplots(1, 2, figsize=(15, 4))\n",
    "    for group in testcase.ds.group.data:\n",
    "        testcase.ds.biomass.sel(group=group).isel(\n",
    "            X=driver_config[matlab_script]['plot_settings']['X']\n",
    "        ).plot(ax=axs[0])\n",
    "        baselines_tmp.biomass.sel(group=group).isel(\n",
    "            X=driver_config[matlab_script]['plot_settings']['X']\n",
    "        ).plot(ax=axs[1])\n",
    "    for ax in axs:\n",
    "        ax.set_ylim(driver_config[matlab_script]['plot_settings']['ylim'])\n",
    "        ax.set_yscale(\"log\")\n",
    "    axs[0].set_title(\"python\")\n",
    "    axs[1].set_title(\"matlab\")\n",
    "    axs[1].set_ylabel(\"\")\n",
    "    axs[1].set_yticklabels(\"\")\n",
    "    plt.legend(testcase.ds.group.data, bbox_to_anchor=(1.025, 0.5), loc=6)\n",
    "    fig.suptitle(f\"Comparison at X={driver_config[matlab_script]['plot_settings']['X']}\")"
   ]
  },
  {
   "cell_type": "code",
   "execution_count": 10,
   "id": "7de29269-a91b-4da9-9fdd-846a29eef43e",
   "metadata": {},
   "outputs": [],
   "source": [
    "if driver_config[matlab_script]['make_plots']:\n",
    "    fig, axs = plt.subplots(1, 2, figsize=(15, 4))\n",
    "    for group in testcase.ds.group.data:\n",
    "        da1 = testcase.ds.biomass.sel(group=group).isel(\n",
    "            X=driver_config[matlab_script]['plot_settings']['X']\n",
    "        )\n",
    "        da2 = baselines_tmp.biomass.sel(group=group).isel(\n",
    "            X=driver_config[matlab_script]['plot_settings']['X']\n",
    "        )\n",
    "        (da1 - da2).plot(ax=axs[0])\n",
    "        (np.abs(da1 - da2) / da2).plot(ax=axs[1])\n",
    "    axs[0].set_title(\"absolute error\")\n",
    "    axs[0].set_ylabel(\"\")\n",
    "    axs[1].set_title(\"relative error\")\n",
    "    axs[1].set_ylabel(\"\")\n",
    "    axs[1].set_yscale(\"log\")\n",
    "    plt.legend(testcase.ds.group.data, bbox_to_anchor=(1.025, 0.5), loc=6)\n",
    "    plt.title(\"Relative Error\")\n",
    "    fig.suptitle(f\"Comparison at X={driver_config[matlab_script]['plot_settings']['X']}\")"
   ]
  },
  {
   "cell_type": "code",
   "execution_count": 11,
   "id": "34f858fd-d237-435f-a495-fd9a8530c0ac",
   "metadata": {},
   "outputs": [
    {
     "name": "stdout",
     "output_type": "stream",
     "text": [
      "| group | Matlab Value | Python Value | Rel Err |\n",
      "| --- | --- | --- | --- |\n",
      "| Sf (t=364, X=0) | 1.7696e-05 | 1.7603e-05 | 5.2706e-03 |\n",
      "| Sp (t=364, X=0) | 9.3653e-06 | 9.3727e-06 | 7.9145e-04 |\n",
      "| Sd (t=364, X=0) | 9.4481e-06 | 9.4544e-06 | 6.5796e-04 |\n",
      "| Mf (t=364, X=0) | 4.0856e-04 | 4.0268e-04 | 1.4391e-02 |\n",
      "| Mp (t=364, X=0) | 3.1926e-04 | 3.1557e-04 | 1.1546e-02 |\n",
      "| Md (t=364, X=0) | 3.1755e-04 | 3.1387e-04 | 1.1603e-02 |\n",
      "| Lp (t=364, X=0) | 4.7386e-04 | 4.6866e-04 | 1.0972e-02 |\n",
      "| Ld (t=364, X=0) | 2.2687e-04 | 2.2398e-04 | 1.2757e-02 |\n",
      "| benthic_prey (t=364, X=0) | 6.3646e-01 | 6.3395e-01 | 3.9481e-03 |\n"
     ]
    }
   ],
   "source": [
    "compare_nc(\n",
    "    baselines_from_nc.isel(X=[driver_config[matlab_script]['plot_settings']['X']]),\n",
    "    testcase.ds[\"biomass\"].isel(X=[driver_config[matlab_script]['plot_settings']['X']]),\n",
    "    nsteps,\n",
    "    thres=1e-15,\n",
    ")"
   ]
  }
 ],
 "metadata": {
  "kernelspec": {
   "display_name": "Python [conda env:miniconda3-dev-feisty]",
   "language": "python",
   "name": "conda-env-miniconda3-dev-feisty-py"
  },
  "language_info": {
   "codemirror_mode": {
    "name": "ipython",
    "version": 3
   },
   "file_extension": ".py",
   "mimetype": "text/x-python",
   "name": "python",
   "nbconvert_exporter": "python",
   "pygments_lexer": "ipython3",
   "version": "3.10.1"
  }
 },
 "nbformat": 4,
 "nbformat_minor": 5
}
