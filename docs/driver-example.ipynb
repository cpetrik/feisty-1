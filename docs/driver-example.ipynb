{
 "cells": [
  {
   "cell_type": "markdown",
   "id": "f606cb75-6746-4939-8243-f256ce02707b",
   "metadata": {},
   "source": [
    "# Running the model\n",
    "\n",
    "Setup a `feisty` integration.\n"
   ]
  },
  {
   "cell_type": "code",
   "execution_count": 1,
   "id": "46c9df26-5ac1-4511-9b9f-3b78a10dc4af",
   "metadata": {},
   "outputs": [],
   "source": [
    "import matplotlib.pyplot as plt\n",
    "\n",
    "import feisty"
   ]
  },
  {
   "cell_type": "markdown",
   "id": "fdd4db51-d57e-438f-8aa9-b8f2a905cd3e",
   "metadata": {},
   "source": [
    "## Configure testcase to run\n"
   ]
  },
  {
   "cell_type": "code",
   "execution_count": 2,
   "id": "09ec80a2-06d0-42e8-be0f-935c0920cb81",
   "metadata": {},
   "outputs": [],
   "source": [
    "testcase = feisty.config_testcase(\n",
    "    \"tanh_shelf\",\n",
    "    \"cyclic\",\n",
    "    diagnostic_names=[\n",
    "        \"T_habitat\",\n",
    "        \"ingestion_rate\",\n",
    "        \"predation_flux\",\n",
    "        \"predation_rate\",\n",
    "        \"metabolism_rate\",\n",
    "        \"mortality_rate\",\n",
    "        \"energy_avail_rate\",\n",
    "        \"growth_rate\",\n",
    "        \"reproduction_rate\",\n",
    "        \"recruitment_flux\",\n",
    "        \"fish_catch_rate\",\n",
    "        \"encounter_rate_link\",\n",
    "        \"encounter_rate_total\",\n",
    "        \"consumption_rate_max_pred\",\n",
    "        \"consumption_rate_link\",\n",
    "    ],\n",
    ")"
   ]
  },
  {
   "cell_type": "markdown",
   "id": "f0e8e7d5-c76e-44c6-bd8f-7eedef102100",
   "metadata": {},
   "source": [
    "## Run the model\n"
   ]
  },
  {
   "cell_type": "code",
   "execution_count": 3,
   "id": "f68ea35b-93e4-4dea-a67d-919ee79af8e9",
   "metadata": {},
   "outputs": [
    {
     "name": "stdout",
     "output_type": "stream",
     "text": [
      "Calling _solve at 13:24:57\n",
      "Starting year 1 integration at 13:24:57\n",
      "Starting year 2 integration at 13:25:06\n",
      "Finished _solve at 13:25:15\n"
     ]
    }
   ],
   "source": [
    "testcase.run(730)"
   ]
  },
  {
   "cell_type": "markdown",
   "id": "129c7578-16d6-4b6f-b23f-b021bad8c758",
   "metadata": {},
   "source": [
    "## Generate final dataset"
   ]
  },
  {
   "cell_type": "code",
   "execution_count": 4,
   "id": "48c62ea3-02e9-4667-b50a-3b3e39c39134",
   "metadata": {},
   "outputs": [],
   "source": [
    "testcase.gen_ds()"
   ]
  },
  {
   "cell_type": "markdown",
   "id": "f53afc03-87f3-42ce-a789-ab349749d5bc",
   "metadata": {},
   "source": [
    "# Output\n"
   ]
  },
  {
   "cell_type": "code",
   "execution_count": 5,
   "id": "7e0f185b-e03b-4650-9f41-01668903e797",
   "metadata": {},
   "outputs": [
    {
     "name": "stdout",
     "output_type": "stream",
     "text": [
      "xarray.Dataset {\n",
      "dimensions:\n",
      "\tX = 22 ;\n",
      "\tgroup = 9 ;\n",
      "\ttime = 730 ;\n",
      "\tfish = 8 ;\n",
      "\tfeeding_link = 19 ;\n",
      "\n",
      "variables:\n",
      "\tfloat64 X(X) ;\n",
      "\t<U12 group(group) ;\n",
      "\tfloat64 biomass(time, group, X) ;\n",
      "\t<U2 fish(fish) ;\n",
      "\t<U15 feeding_link(feeding_link) ;\n",
      "\t<U2 predator(feeding_link) ;\n",
      "\t<U12 prey(feeding_link) ;\n",
      "\tfloat64 T_habitat(time, fish, X) ;\n",
      "\tfloat64 ingestion_rate(time, fish, X) ;\n",
      "\tfloat64 predation_flux(time, fish, X) ;\n",
      "\tfloat64 predation_rate(time, fish, X) ;\n",
      "\tfloat64 metabolism_rate(time, fish, X) ;\n",
      "\tfloat64 mortality_rate(time, fish, X) ;\n",
      "\tfloat64 energy_avail_rate(time, fish, X) ;\n",
      "\tfloat64 growth_rate(time, fish, X) ;\n",
      "\tfloat64 reproduction_rate(time, fish, X) ;\n",
      "\tfloat64 recruitment_flux(time, fish, X) ;\n",
      "\tfloat64 fish_catch_rate(time, fish, X) ;\n",
      "\tfloat64 encounter_rate_link(time, feeding_link, X) ;\n",
      "\tfloat64 encounter_rate_total(time, fish, X) ;\n",
      "\tfloat64 consumption_rate_max_pred(time, fish, X) ;\n",
      "\tfloat64 consumption_rate_link(time, feeding_link, X) ;\n",
      "\tobject time(time) ;\n",
      "\n",
      "// global attributes:\n",
      "}"
     ]
    }
   ],
   "source": [
    "testcase.ds.info()"
   ]
  },
  {
   "cell_type": "code",
   "execution_count": 6,
   "id": "c66e77c7-b8a4-454c-966c-5c0501f153b7",
   "metadata": {},
   "outputs": [
    {
     "data": {
      "image/png": "[encoded data removed]",
      "text/plain": [
       "<Figure size 432x288 with 1 Axes>"
      ]
     },
     "metadata": {
      "needs_background": "light"
     },
     "output_type": "display_data"
    }
   ],
   "source": [
    "test_ds = testcase.ds.isel(X=0, time=0)\n",
    "for group in test_ds.group.data:\n",
    "    testcase.ds.biomass.sel(group=group).isel(X=0).plot(linewidth=2)\n",
    "plt.ylim([4e-6, 4])\n",
    "plt.yscale(\"log\")\n",
    "plt.legend(test_ds.group.data, bbox_to_anchor=(1.05, 1.0));"
   ]
  }
 ],
 "metadata": {
  "kernelspec": {
   "display_name": "Python [conda env:miniconda3-dev-feisty]",
   "language": "python",
   "name": "conda-env-miniconda3-dev-feisty-py"
  },
  "language_info": {
   "codemirror_mode": {
    "name": "ipython",
    "version": 3
   },
   "file_extension": ".py",
   "mimetype": "text/x-python",
   "name": "python",
   "nbconvert_exporter": "python",
   "pygments_lexer": "ipython3",
   "version": "3.10.1"
  }
 },
 "nbformat": 4,
 "nbformat_minor": 5
}
