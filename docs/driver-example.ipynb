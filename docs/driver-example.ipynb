{
 "cells": [
  {
   "cell_type": "markdown",
   "id": "f606cb75-6746-4939-8243-f256ce02707b",
   "metadata": {},
   "source": [
    "# Running the model\n",
    "\n",
    "Setup a `feisty` integration.\n"
   ]
  },
  {
   "cell_type": "code",
   "execution_count": 1,
   "id": "46c9df26-5ac1-4511-9b9f-3b78a10dc4af",
   "metadata": {},
   "outputs": [],
   "source": [
    "import feisty"
   ]
  },
  {
   "cell_type": "markdown",
   "id": "fdd4db51-d57e-438f-8aa9-b8f2a905cd3e",
   "metadata": {},
   "source": [
    "## Configure testcase to run\n"
   ]
  },
  {
   "cell_type": "code",
   "execution_count": 2,
   "id": "09ec80a2-06d0-42e8-be0f-935c0920cb81",
   "metadata": {},
   "outputs": [],
   "source": [
    "testcase = feisty.driver.simulate_testcase(\"tanh_shelf\", \"cyclic\")"
   ]
  },
  {
   "cell_type": "markdown",
   "id": "f0e8e7d5-c76e-44c6-bd8f-7eedef102100",
   "metadata": {},
   "source": [
    "## Run the model\n"
   ]
  },
  {
   "cell_type": "code",
   "execution_count": 3,
   "id": "f68ea35b-93e4-4dea-a67d-919ee79af8e9",
   "metadata": {},
   "outputs": [
    {
     "name": "stdout",
     "output_type": "stream",
     "text": [
      "here\n"
     ]
    }
   ],
   "source": [
    "testcase.run(365)"
   ]
  },
  {
   "cell_type": "markdown",
   "id": "f53afc03-87f3-42ce-a789-ab349749d5bc",
   "metadata": {
    "tags": []
   },
   "source": [
    "# Output\n"
   ]
  },
  {
   "cell_type": "code",
   "execution_count": null,
   "id": "7e0f185b-e03b-4650-9f41-01668903e797",
   "metadata": {},
   "outputs": [],
   "source": [
    "testcase.ds.info()"
   ]
  },
  {
   "cell_type": "code",
   "execution_count": null,
   "id": "fddbc69a-44fb-4877-8fc4-2f7fbf8d0076",
   "metadata": {},
   "outputs": [],
   "source": [
    "testcase.ds.biomass.sel(group=\"Lp\").isel(X=0).plot()"
   ]
  },
  {
   "cell_type": "code",
   "execution_count": null,
   "id": "c66e77c7-b8a4-454c-966c-5c0501f153b7",
   "metadata": {},
   "outputs": [],
   "source": [
    "testcase.forcing.to_netcdf(\"cyclic_test_forcing.nc\")"
   ]
  },
  {
   "cell_type": "code",
   "execution_count": null,
   "id": "dfeeba49-e346-4671-8066-b16f175b4d36",
   "metadata": {},
   "outputs": [],
   "source": [
    "testcase.domain_dict[\"bathymetry\"].to_netcdf(\"bathym_test_forcing.nc\")"
   ]
  },
  {
   "cell_type": "code",
   "execution_count": null,
   "id": "06af6b5d-d36d-4d78-aa01-31a7132a4d9f",
   "metadata": {},
   "outputs": [],
   "source": [
    "testcase.ds.to_netcdf(\"results_test_dem_redux.nc\")"
   ]
  },
  {
   "cell_type": "code",
   "execution_count": null,
   "id": "5c2b4b6b-d965-4679-af1c-f10d117bf9e8",
   "metadata": {},
   "outputs": [],
   "source": []
  }
 ],
 "metadata": {
  "kernelspec": {
   "display_name": "Python [conda env:.conda-dev-feisty]",
   "language": "python",
   "name": "conda-env-.conda-dev-feisty-py"
  },
  "language_info": {
   "codemirror_mode": {
    "name": "ipython",
    "version": 3
   },
   "file_extension": ".py",
   "mimetype": "text/x-python",
   "name": "python",
   "nbconvert_exporter": "python",
   "pygments_lexer": "ipython3",
   "version": "3.10.1"
  }
 },
 "nbformat": 4,
 "nbformat_minor": 5
}
