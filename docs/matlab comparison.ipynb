{
 "cells": [
  {
   "cell_type": "markdown",
   "id": "f606cb75-6746-4939-8243-f256ce02707b",
   "metadata": {
    "tags": []
   },
   "source": [
    "# Running the model\n",
    "\n",
    "Setup a `feisty` integration.\n"
   ]
  },
  {
   "cell_type": "code",
   "execution_count": 1,
   "id": "7e1cb691-f373-4293-bcd1-17cb52726b60",
   "metadata": {},
   "outputs": [],
   "source": [
    "%load_ext autoreload\n",
    "%autoreload 2"
   ]
  },
  {
   "cell_type": "code",
   "execution_count": 2,
   "id": "46c9df26-5ac1-4511-9b9f-3b78a10dc4af",
   "metadata": {},
   "outputs": [],
   "source": [
    "import feisty\n",
    "import matplotlib.pyplot as plt\n",
    "import numpy as np\n",
    "import yaml"
   ]
  },
  {
   "cell_type": "markdown",
   "id": "fdd4db51-d57e-438f-8aa9-b8f2a905cd3e",
   "metadata": {},
   "source": [
    "## Configure testcase to run\n",
    "\n",
    "TODO: this is using the first column (which I believe is shallowest); want to add deepest column as well.\n",
    "That will require refactoring the yaml file and also changing test_ds."
   ]
  },
  {
   "cell_type": "code",
   "execution_count": 3,
   "id": "09ec80a2-06d0-42e8-be0f-935c0920cb81",
   "metadata": {},
   "outputs": [],
   "source": [
    "testcase = feisty.driver.simulate_testcase(\"tanh_shelf\", \"cyclic\")\n",
    "# print(testcase.obj.biomass.isel(X=0).sel(group='benthic_prey').data)\n",
    "with open(\"matlab_first_timestep.yaml\") as f:\n",
    "    baselines = yaml.safe_load(f)"
   ]
  },
  {
   "cell_type": "code",
   "execution_count": 4,
   "id": "030cb992-2601-49e7-a3c0-52db1d0edd8c",
   "metadata": {},
   "outputs": [],
   "source": [
    "def compare(baselines_dict, da, full_table=True, markdown_formatting=False):\n",
    "    if markdown_formatting:\n",
    "        print(f\"| {baselines_dict['dimname']} | Matlab Value | Python Value | Rel Err |\")\n",
    "        print(\"| --- | --- | --- | --- |\")\n",
    "        seps = ['| ', ' | ', ' | ', ' |']\n",
    "    else:\n",
    "        seps = ['', ': ', ', ', '']\n",
    "    for var in da[baselines_dict['dimname']].data:\n",
    "        sel_dict = {baselines_dict['dimname']: var}\n",
    "        matlab_val = baselines_dict['values'][var]\n",
    "        py_val = da.sel(sel_dict).data\n",
    "        if matlab_val != 0:\n",
    "            rel_err = (py_val - matlab_val) / matlab_val\n",
    "            if rel_err < 0:\n",
    "                rel_err = -rel_err\n",
    "        else:\n",
    "            if py_val == 0:\n",
    "                rel_err = 0\n",
    "            elif py_val > 0:\n",
    "                rel_err = np.inf\n",
    "            elif py_val < 0:\n",
    "                rel_err = -np.inf\n",
    "        if full_table or rel_err > 1e-2:\n",
    "            print(f\"{seps[0]}{var}{seps[1]}{matlab_val:10.4e}{seps[2]}{py_val:10.4e}{seps[2]}{rel_err:10.4e}{seps[-1]}\")"
   ]
  },
  {
   "cell_type": "markdown",
   "id": "f0e8e7d5-c76e-44c6-bd8f-7eedef102100",
   "metadata": {},
   "source": [
    "## Run the model\n"
   ]
  },
  {
   "cell_type": "code",
   "execution_count": 5,
   "id": "f68ea35b-93e4-4dea-a67d-919ee79af8e9",
   "metadata": {},
   "outputs": [
    {
     "name": "stdout",
     "output_type": "stream",
     "text": [
      "CPU times: user 269 ms, sys: 5.26 ms, total: 275 ms\n",
      "Wall time: 636 ms\n"
     ]
    },
    {
     "data": {
      "text/plain": [
       "<bound method Dataset.info of <xarray.Dataset>\n",
       "Dimensions:                    (X: 22, group: 9, time: 1, fish: 8, feeding_link: 19)\n",
       "Coordinates:\n",
       "  * X                          (X) float64 -0.5 -0.2381 0.02381 ... 4.738 5.0\n",
       "  * group                      (group) <U12 'Sf' 'Sp' ... 'Ld' 'benthic_prey'\n",
       "  * fish                       (fish) <U2 'Sf' 'Sp' 'Sd' 'Mf' ... 'Md' 'Lp' 'Ld'\n",
       "  * feeding_link               (feeding_link) <U15 'Sf_Zoo' ... 'Ld_benthic_p...\n",
       "    predator                   (feeding_link) <U2 'Sf' 'Sp' 'Sd' ... 'Ld' 'Ld'\n",
       "    prey                       (feeding_link) <U12 'Zoo' ... 'benthic_prey'\n",
       "Dimensions without coordinates: time\n",
       "Data variables: (12/16)\n",
       "    biomass                    (time, group, X) float64 9.998e-06 ... 1e-05\n",
       "    T_habitat                  (time, fish, X) float64 18.2 18.2 ... 18.2 18.2\n",
       "    ingestion_rate             (time, fish, X) float64 0.2152 ... 6.439e-07\n",
       "    predation_flux             (time, fish, X) float64 5.726e-12 ... 0.0\n",
       "    predation_rate             (time, fish, X) float64 5.726e-07 ... 0.0\n",
       "    metabolism_rate            (time, fish, X) float64 0.04296 ... 0.00488\n",
       "    ...                         ...\n",
       "    recruitment_flux           (time, fish, X) float64 0.0 0.0 0.0 ... 0.0 0.0\n",
       "    fish_catch_rate            (time, fish, X) float64 0.0 0.0 ... 0.0008219\n",
       "    encounter_rate_link        (time, feeding_link, X) float64 2.294 ... 0.0\n",
       "    encounter_rate_total       (time, fish, X) float64 2.294 2.294 ... 6.439e-07\n",
       "    consumption_rate_max_pred  (time, fish, X) float64 0.2375 0.2375 ... 0.01062\n",
       "    consumption_rate_link      (time, feeding_link, X) float64 0.2152 ... 0.0>"
      ]
     },
     "execution_count": 5,
     "metadata": {},
     "output_type": "execute_result"
    }
   ],
   "source": [
    "%%time\n",
    "\n",
    "nsteps = 1\n",
    "testcase.run(nsteps)\n",
    "# print(testcase.ds['feeding_link'].data)\n",
    "testcase.ds.info\n"
   ]
  },
  {
   "cell_type": "code",
   "execution_count": 6,
   "id": "f3439d6c-9606-4c88-b239-95be0fdbe0b8",
   "metadata": {},
   "outputs": [],
   "source": [
    "if (nsteps > 1):\n",
    "    test_ds = testcase.ds.isel(X=0,time=0)\n",
    "    for group in test_ds.group.data:\n",
    "        testcase.ds.biomass.sel(group=group).isel(X=0).plot()\n",
    "    plt.ylim([1e-6, 1])\n",
    "    plt.yscale(\"log\")\n",
    "    plt.legend(test_ds.group.data)\n",
    "else:\n",
    "    test_ds = testcase.ds.isel(X=0, time=0)"
   ]
  },
  {
   "cell_type": "code",
   "execution_count": 7,
   "id": "c96e2f0f-bce8-4da4-9d72-15c101f7cee5",
   "metadata": {},
   "outputs": [
    {
     "name": "stdout",
     "output_type": "stream",
     "text": [
      "| feeding_link | Matlab Value | Python Value | Rel Err |\n",
      "| --- | --- | --- | --- |\n",
      "| Sf_Zoo | 2.2885e+00 | 2.2936e+00 | 2.2411e-03 |\n",
      "| Sp_Zoo | 2.2885e+00 | 2.2936e+00 | 2.2411e-03 |\n",
      "| Sd_Zoo | 2.2885e+00 | 2.2936e+00 | 2.2411e-03 |\n",
      "| Mf_Zoo | 2.9714e-01 | 2.9781e-01 | 2.2411e-03 |\n",
      "| Mf_Sf | 1.9837e-06 | 1.9836e-06 | 3.9203e-05 |\n",
      "| Mf_Sp | 1.9837e-06 | 1.9836e-06 | 3.9203e-05 |\n",
      "| Mf_Sd | 1.9837e-06 | 0.0000e+00 | 1.0000e+00 |\n",
      "| Mp_Zoo | 2.9714e-01 | 2.9781e-01 | 2.2411e-03 |\n",
      "| Mp_Sf | 1.9837e-06 | 1.9836e-06 | 3.9203e-05 |\n",
      "| Mp_Sp | 1.9837e-06 | 1.9836e-06 | 3.9203e-05 |\n",
      "| Mp_Sd | 1.9837e-06 | 0.0000e+00 | 1.0000e+00 |\n",
      "| Md_benthic_prey | 1.7232e-04 | 1.7232e-04 | 2.6443e-05 |\n",
      "| Lp_Mf | 5.7237e-07 | 2.8617e-07 | 5.0002e-01 |\n",
      "| Lp_Mp | 5.7237e-07 | 5.7235e-07 | 3.9203e-05 |\n",
      "| Lp_Md | 0.0000e+00 | 0.0000e+00 | 0.0000e+00 |\n",
      "| Ld_Mf | 2.3891e-07 | 8.9590e-08 | 6.2500e-01 |\n",
      "| Ld_Mp | 2.3891e-07 | 1.7918e-07 | 2.5000e-01 |\n",
      "| Ld_Md | 2.3891e-07 | 2.3891e-07 | 2.0168e-06 |\n",
      "| Ld_benthic_prey | 5.0135e-05 | 5.0134e-05 | 2.6593e-05 |\n"
     ]
    }
   ],
   "source": [
    "compare(baselines[\"encounter\"], test_ds[\"encounter_rate_link\"], markdown_formatting=True)"
   ]
  },
  {
   "cell_type": "code",
   "execution_count": 8,
   "id": "8911094b-fe2f-40bf-8529-89c44646235c",
   "metadata": {},
   "outputs": [
    {
     "name": "stdout",
     "output_type": "stream",
     "text": [
      "| feeding_link | Matlab Value | Python Value | Rel Err |\n",
      "| --- | --- | --- | --- |\n",
      "| Sf_Zoo | 2.1520e-01 | 2.1523e-01 | 1.7479e-04 |\n",
      "| Sp_Zoo | 2.1520e-01 | 2.1523e-01 | 1.7479e-04 |\n",
      "| Sd_Zoo | 2.1520e-01 | 2.1523e-01 | 1.7479e-04 |\n",
      "| Mf_Zoo | 4.2967e-02 | 4.2980e-02 | 2.9564e-04 |\n",
      "| Mf_Sf | 2.8684e-07 | 2.8628e-07 | 1.9803e-03 |\n",
      "| Mf_Sp | 2.8684e-07 | 2.8628e-07 | 1.9803e-03 |\n",
      "| Mf_Sd | 2.8684e-07 | 0.0000e+00 | 1.0000e+00 |\n",
      "| Mp_Zoo | 4.2967e-02 | 4.2980e-02 | 2.9564e-04 |\n",
      "| Mp_Sf | 2.8684e-07 | 2.8628e-07 | 1.9803e-03 |\n",
      "| Mp_Sp | 2.8684e-07 | 2.8628e-07 | 1.9803e-03 |\n",
      "| Mp_Sd | 2.8684e-07 | 0.0000e+00 | 1.0000e+00 |\n",
      "| Md_benthic_prey | 1.7091e-04 | 1.7090e-04 | 2.6241e-05 |\n",
      "| Lp_Mf | 5.7231e-07 | 2.8615e-07 | 5.0001e-01 |\n",
      "| Lp_Mp | 5.7231e-07 | 5.7230e-07 | 1.2265e-05 |\n",
      "| Lp_Md | 0.0000e+00 | 0.0000e+00 | 0.0000e+00 |\n",
      "| Ld_Mf | 2.3620e-07 | 8.8578e-08 | 6.2498e-01 |\n",
      "| Ld_Mp | 2.3620e-07 | 1.7716e-07 | 2.4997e-01 |\n",
      "| Ld_Md | 2.3620e-07 | 2.3621e-07 | 4.4872e-05 |\n",
      "| Ld_benthic_prey | 4.9567e-05 | 4.9568e-05 | 2.0295e-05 |\n"
     ]
    }
   ],
   "source": [
    "compare(baselines[\"consumption\"], test_ds[\"consumption_rate_link\"], markdown_formatting=True)"
   ]
  },
  {
   "cell_type": "code",
   "execution_count": null,
   "id": "c66e77c7-b8a4-454c-966c-5c0501f153b7",
   "metadata": {},
   "outputs": [],
   "source": [
    "test_ds.sel(feeding_link='Sd_Zoo')[\"encounter_rate_link\"].data"
   ]
  },
  {
   "cell_type": "code",
   "execution_count": null,
   "id": "8a6e5450-770a-4166-9965-dc2524fc35e0",
   "metadata": {},
   "outputs": [],
   "source": [
    "test_ds.sel(feeding_link='Mf_Sd')[\"encounter_rate_link\"].data"
   ]
  },
  {
   "cell_type": "code",
   "execution_count": null,
   "id": "085fbb16-5ed9-4297-b978-b134b00883d1",
   "metadata": {},
   "outputs": [],
   "source": [
    "test_ds[\"encounter_rate_total\"]"
   ]
  },
  {
   "cell_type": "code",
   "execution_count": null,
   "id": "daf0ede0-453f-4cba-ae3f-62ef08e2d26f",
   "metadata": {},
   "outputs": [],
   "source": [
    "test_ds[\"predation_flux\"].sel(fish=\"Sd\")"
   ]
  },
  {
   "cell_type": "code",
   "execution_count": null,
   "id": "35ec6aa3-ef40-4a79-ad7f-0a70b779517c",
   "metadata": {},
   "outputs": [],
   "source": [
    "test_ds.sel(fish='Sd')['consumption_rate_max_pred']"
   ]
  },
  {
   "cell_type": "code",
   "execution_count": null,
   "id": "bcdd97c9-f012-47de-9c47-39ab7149be5c",
   "metadata": {},
   "outputs": [],
   "source": [
    "test_ds.sel(feeding_link='Lp_Md')[\"encounter_rate_link\"]"
   ]
  },
  {
   "cell_type": "code",
   "execution_count": null,
   "id": "96a228db-addd-4c83-a600-3e2d445ceb20",
   "metadata": {},
   "outputs": [],
   "source": [
    "testcase.ds.sel(feeding_link='Sf_Zoo')[\"consumption_rate_link\"]"
   ]
  },
  {
   "cell_type": "code",
   "execution_count": null,
   "id": "c4d13623-0a0b-4c59-982f-d9c60f8c923b",
   "metadata": {},
   "outputs": [],
   "source": []
  }
 ],
 "metadata": {
  "kernelspec": {
   "display_name": "Python [conda env:miniconda3-dev-feisty]",
   "language": "python",
   "name": "conda-env-miniconda3-dev-feisty-py"
  },
  "language_info": {
   "codemirror_mode": {
    "name": "ipython",
    "version": 3
   },
   "file_extension": ".py",
   "mimetype": "text/x-python",
   "name": "python",
   "nbconvert_exporter": "python",
   "pygments_lexer": "ipython3",
   "version": "3.10.1"
  }
 },
 "nbformat": 4,
 "nbformat_minor": 5
}
