{
 "cells": [
  {
   "cell_type": "markdown",
   "id": "f606cb75-6746-4939-8243-f256ce02707b",
   "metadata": {},
   "source": [
    "# Running the model\n",
    "\n",
    "Setup a `feisty` integration.\n"
   ]
  },
  {
   "cell_type": "code",
   "execution_count": 4,
   "id": "46c9df26-5ac1-4511-9b9f-3b78a10dc4af",
   "metadata": {},
   "outputs": [],
   "source": [
    "import feisty"
   ]
  },
  {
   "cell_type": "markdown",
   "id": "fdd4db51-d57e-438f-8aa9-b8f2a905cd3e",
   "metadata": {},
   "source": [
    "## Configure testcase to run\n"
   ]
  },
  {
   "cell_type": "code",
   "execution_count": 5,
   "id": "09ec80a2-06d0-42e8-be0f-935c0920cb81",
   "metadata": {},
   "outputs": [],
   "source": [
    "testcase = feisty.driver.simulate_testcase(\"tanh_shelf\", \"cyclic\")"
   ]
  },
  {
   "cell_type": "markdown",
   "id": "f0e8e7d5-c76e-44c6-bd8f-7eedef102100",
   "metadata": {},
   "source": [
    "## Run the model\n"
   ]
  },
  {
   "cell_type": "code",
   "execution_count": 6,
   "id": "f68ea35b-93e4-4dea-a67d-919ee79af8e9",
   "metadata": {},
   "outputs": [],
   "source": [
    "testcase.run(365)"
   ]
  },
  {
   "cell_type": "markdown",
   "id": "f53afc03-87f3-42ce-a789-ab349749d5bc",
   "metadata": {},
   "source": [
    "# Output\n"
   ]
  },
  {
   "cell_type": "code",
   "execution_count": 7,
   "id": "7e0f185b-e03b-4650-9f41-01668903e797",
   "metadata": {},
   "outputs": [
    {
     "name": "stdout",
     "output_type": "stream",
     "text": [
      "xarray.Dataset {\n",
      "dimensions:\n",
      "\tX = 22 ;\n",
      "\tgroup = 9 ;\n",
      "\ttime = 365 ;\n",
      "\tfish = 8 ;\n",
      "\n",
      "variables:\n",
      "\tfloat64 X(X) ;\n",
      "\t<U12 group(group) ;\n",
      "\tfloat64 biomass(time, group, X) ;\n",
      "\t<U2 fish(fish) ;\n",
      "\tfloat64 T_habitat(time, fish, X) ;\n",
      "\tfloat64 ingestion_rate(time, fish, X) ;\n",
      "\tfloat64 predation_flux(time, fish, X) ;\n",
      "\tfloat64 predation_rate(time, fish, X) ;\n",
      "\tfloat64 metabolism_rate(time, fish, X) ;\n",
      "\tfloat64 mortality_rate(time, fish, X) ;\n",
      "\tfloat64 energy_avail_rate(time, fish, X) ;\n",
      "\tfloat64 growth_rate(time, fish, X) ;\n",
      "\tfloat64 reproduction_rate(time, fish, X) ;\n",
      "\tfloat64 recruitment_flux(time, fish, X) ;\n",
      "\tfloat64 fish_catch_rate(time, fish, X) ;\n",
      "\n",
      "// global attributes:\n",
      "}"
     ]
    }
   ],
   "source": [
    "testcase.ds.info()"
   ]
  },
  {
   "cell_type": "code",
   "execution_count": 9,
   "id": "fddbc69a-44fb-4877-8fc4-2f7fbf8d0076",
   "metadata": {},
   "outputs": [
    {
     "data": {
      "text/plain": [
       "[<matplotlib.lines.Line2D at 0x161e17cd0>]"
      ]
     },
     "execution_count": 9,
     "metadata": {},
     "output_type": "execute_result"
    },
    {
     "data": {
      "image/png": "[encoded data removed]",
      "text/plain": [
       "<Figure size 432x288 with 1 Axes>"
      ]
     },
     "metadata": {
      "needs_background": "light"
     },
     "output_type": "display_data"
    }
   ],
   "source": [
    "testcase.ds.biomass.sel(group=\"Sp\").isel(X=0).plot()"
   ]
  },
  {
   "cell_type": "code",
   "execution_count": null,
   "id": "c66e77c7-b8a4-454c-966c-5c0501f153b7",
   "metadata": {},
   "outputs": [],
   "source": []
  }
 ],
 "metadata": {
  "kernelspec": {
   "display_name": "Python 3 (ipykernel)",
   "language": "python",
   "name": "python3"
  },
  "language_info": {
   "codemirror_mode": {
    "name": "ipython",
    "version": 3
   },
   "file_extension": ".py",
   "mimetype": "text/x-python",
   "name": "python",
   "nbconvert_exporter": "python",
   "pygments_lexer": "ipython3",
   "version": "3.9.7"
  }
 },
 "nbformat": 4,
 "nbformat_minor": 5
}
